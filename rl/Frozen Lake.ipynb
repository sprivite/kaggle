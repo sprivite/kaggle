{
 "cells": [
  {
   "cell_type": "code",
   "execution_count": 62,
   "metadata": {},
   "outputs": [],
   "source": [
    "import numpy as np\n",
    "%matplotlib inline\n",
    "from matplotlib import pyplot as plt\n",
    "import copy"
   ]
  },
  {
   "cell_type": "code",
   "execution_count": 173,
   "metadata": {},
   "outputs": [],
   "source": [
    "def map_path(game, path):\n",
    "\n",
    "    l = [x[:] for x in game.lake]\n",
    "    for x, y, a in path:\n",
    "        l[x][y] = FrozenLake.actions[a]\n",
    "    \n",
    "    return '\\n'.join(('|' + ''.join(row) + '|') for row in l).replace('F', ' ').replace('H', 'X')"
   ]
  },
  {
   "cell_type": "code",
   "execution_count": 174,
   "metadata": {},
   "outputs": [],
   "source": [
    "class FrozenLake(object):\n",
    "    '''\n",
    "    A frozen lake game! It's a lake that's frozen, but it's got some holes that you should\n",
    "    avoid. Or, maybe it's a desert with patches of quicksand. Either way, you have to get from \n",
    "    S(tart) to G(oal) without dying. it's 2D, so for any state, there are only four available \n",
    "    actions: left, right, up and down. But it's a windy, slippery landscape, so choosing to go \n",
    "    left only actually takes you left with a certain probability. The game is so easy that you\n",
    "    can just look at a board and see the optimal strategy.\n",
    "    '''\n",
    "\n",
    "    actions = ['v', '^', '>', '<']\n",
    "    \n",
    "    def __init__(self, n=4, nholes=4, seed=501):\n",
    "\n",
    "        np.random.seed(seed)\n",
    "\n",
    "        # for now, it's an n x n square lake\n",
    "        self.n = n \n",
    "        self.m = n\n",
    "        self.start = (0, 0)\n",
    "        self.goal = (self.n - 1, self.m - 1)\n",
    "        \n",
    "        # if you just construct holes randomly, it can potentially lead to unsolvable boards\n",
    "        # rather deal with the complication of checking for solvability, I will construct\n",
    "        # boards that are guaranteed to be solvable. however, this limits the number of holes\n",
    "        # I will let you drill. Basically, I will first carve out a winning path. Then I will\n",
    "        # randomly place holes at the remaining spots until I have as many holes as requested.\n",
    "        self.nholes = nholes\n",
    "        assert nholes <= (self.n - 1) * (self.m - 1)\n",
    "\n",
    "        # the Q-value function, which maps states and actions to expected future-discounted\n",
    "        # rewards\n",
    "        self.Q = 0.01 * np.random.rand(self.n, self.m, len(self.actions))\n",
    "\n",
    "        # construct lake with holes\n",
    "        self.lake = None\n",
    "        self._freeze_lake()\n",
    "        \n",
    "     \n",
    "    def _freeze_lake(self):\n",
    "     \n",
    "        # the lake is after all ... frozen\n",
    "        if self.lake:\n",
    "            return\n",
    "        \n",
    "        # choose first a winning path. we don't put holes here!!\n",
    "        # This works provided self.goal is dictionary ordered > self.start.\n",
    "        x, y = self.start\n",
    "        winning_path = [(x, y)]\n",
    "        while (x, y) != self.goal:\n",
    "            \n",
    "            if x == self.goal[0]:\n",
    "                y += 1\n",
    "            elif y == self.goal[1]:\n",
    "                x += 1\n",
    "            else:\n",
    "                right = int( np.random.random() > 0.5 )\n",
    "                x += right\n",
    "                y += 1 - right\n",
    "            \n",
    "            winning_path.append((x,y))\n",
    "            \n",
    "        # make base game with no holes\n",
    "        self.lake = [['F' for _ in range(self.m)] for _ in range(self.n)]       \n",
    "        self.lake[self.start[0]][self.start[1]] = 'S'\n",
    "        self.lake[self.goal[0]][self.goal[1]] = 'G'\n",
    "        \n",
    "        # generate holes and add to the board\n",
    "        candidate_holes = list(set((x,y) for x in range(self.n) for y in range(self.m)) - set(winning_path))\n",
    "        np.random.shuffle(candidate_holes)\n",
    "        self.holes = candidate_holes[-self.nholes:]\n",
    "\n",
    "        for j, k in self.holes:\n",
    "            self.lake[j][k] = 'H'\n",
    "    \n",
    "        return\n",
    "    \n",
    "    \n",
    "    def _move(self, i, j, eps):\n",
    "        \n",
    "        # choose action: with probability self.eps, take the direction of \n",
    "        # maximal Q value (which at first is actually random) and\n",
    "        # with probability 1 - self.eps, take a random step         \n",
    "        if np.random.rand() < eps:\n",
    "            action = np.argmax(self.Q[i, j, :])\n",
    "        else:\n",
    "            action = np.random.randint(0, 4)\n",
    "\n",
    "        i1, j1 = i, j\n",
    "\n",
    "        if action == 0:\n",
    "            i1 = i + 1\n",
    "        elif action == 1:\n",
    "            i1 = i - 1\n",
    "        elif action == 2:\n",
    "            j1 = j + 1\n",
    "        else:\n",
    "            j1 = j - 1\n",
    "    \n",
    "        return i1, j1, action\n",
    "    \n",
    "    \n",
    "    def play(self):\n",
    "        return self.learn(lr=0, gamma=0, eps=0.9)\n",
    "    \n",
    "\n",
    "    def learn(self, lr=0.1, gamma=0.7, eps=0.9, rbase = -0.05):\n",
    "        \n",
    "        path = []\n",
    "        i1, j1 = self.start\n",
    "        \n",
    "        while 1:\n",
    "            \n",
    "            # set start state to end state of last iteration\n",
    "            i, j = i1, j1\n",
    "\n",
    "            # find next position\n",
    "            i1, j1, action = self._move(i, j, eps)\n",
    "            path.append((i, j, action))\n",
    "          \n",
    "            # check for death\n",
    "            if not 0 <= i1 < self.n or not 0 <= j1 < self.n or (i1, j1) in self.holes:\n",
    "                self.Q[i, j, action] = -1             \n",
    "                return path, 'DIE'\n",
    "            \n",
    "            # check for win\n",
    "            if (i1, j1) == self.goal:\n",
    "                self.Q[i, j, action] = 1\n",
    "                return path, 'WIN'\n",
    "\n",
    "            # continue\n",
    "            self.Q[i, j, action] = (1 - lr) * self.Q[i, j, action] + lr * (rbase + gamma * max(self.Q[i1, j1, :]))\n",
    "\n",
    "            \n",
    "    def __repr__(self):\n",
    "        return '\\n'.join(('|' + ''.join(row) + '|') for row in self.lake).replace('F', ' ').replace('H', 'X')\n"
   ]
  },
  {
   "cell_type": "code",
   "execution_count": 206,
   "metadata": {},
   "outputs": [
    {
     "name": "stdout",
     "output_type": "stream",
     "text": [
      "|SXX XXXX|\n",
      "|   X  X |\n",
      "|        |\n",
      "|        |\n",
      "|    XX  |\n",
      "|    X   |\n",
      "|     X X|\n",
      "|X XX   G|\n"
     ]
    }
   ],
   "source": [
    "n = 8\n",
    "holes = 5\n",
    "game = FrozenLake(n=n, nholes=16, seed=1000)\n",
    "print game"
   ]
  },
  {
   "cell_type": "code",
   "execution_count": 207,
   "metadata": {
    "scrolled": false
   },
   "outputs": [
    {
     "name": "stdout",
     "output_type": "stream",
     "text": [
      "0 666 1000\n",
      "1 605 1000\n",
      "2 654 1000\n",
      "3 633 1000\n",
      "4 644 1000\n",
      "5 614 1000\n",
      "6 621 1000\n",
      "7 578 1000\n",
      "8 611 1000\n",
      "9 600 1000\n",
      "10 569 1000\n",
      "11 604 1000\n",
      "12 626 1000\n",
      "13 595 1000\n",
      "14 605 1000\n",
      "15 613 1000\n",
      "16 582 1000\n",
      "17 613 1000\n",
      "18 597 1000\n",
      "19 589 1000\n"
     ]
    }
   ],
   "source": [
    "Q = np.array(game.Q)\n",
    "batch_size = 10000\n",
    "play_size = 1000\n",
    "for batch in xrange(20):\n",
    "    [game.learn(eps=0.9) for n in range(batch_size)]\n",
    "    print batch, sum(x[1] == 'WIN' for x in [game.play() for n in range(play_size)]), play_size\n",
    "    \n",
    "#print Q - game.Q\n",
    "#print game.Q"
   ]
  },
  {
   "cell_type": "code",
   "execution_count": 215,
   "metadata": {},
   "outputs": [
    {
     "name": "stdout",
     "output_type": "stream",
     "text": [
      "|vXX XXXX|\n",
      "|v  X  X |\n",
      "|v       |\n",
      "|v       |\n",
      "|v   XX  |\n",
      "|v   X   |\n",
      "|>>>>vX X|\n",
      "|X XX>>>G|\n"
     ]
    }
   ],
   "source": [
    "path, _ = game.play()\n",
    "path\n",
    "print map_path(game, path)"
   ]
  },
  {
   "cell_type": "code",
   "execution_count": 123,
   "metadata": {},
   "outputs": [
    {
     "data": {
      "image/png": "[encoded data removed]",
      "text/plain": [
       "<Figure size 720x720 with 1 Axes>"
      ]
     },
     "metadata": {},
     "output_type": "display_data"
    }
   ],
   "source": [
    "#\n",
    "# visualize learned strategy\n",
    "#\n",
    "actions = ['^', 'v', '>', '<']\n",
    "moves = game.Q.argmax(axis=2)\n",
    "fig = plt.figure(figsize=(10,10))\n",
    "ax = fig.gca()\n",
    "#axes[0,0].pcolor(moves == 0) # down\n",
    "#axes[0,1].pcolor(moves == 1) # up\n",
    "#axes[1,0].pcolor(moves == 2) # left\n",
    "#axes[1,1].pcolor(moves == 3) # right\n",
    "\n",
    "for x in range(game.n):\n",
    "    for y in range(game.m):\n",
    "        if (x,y) in game.holes:\n",
    "            marker = 'x'\n",
    "            c = 'r'\n",
    "        elif (x,y) == game.goal:\n",
    "            marker = ','\n",
    "            c = 'g'\n",
    "        else:\n",
    "            marker = actions[moves[x,y]]\n",
    "            c = 'k'\n",
    "\n",
    "        ax.scatter([x], [y], lw=2, c=c, marker=marker, s=170)        \n"
   ]
  },
  {
   "cell_type": "code",
   "execution_count": 92,
   "metadata": {},
   "outputs": [
    {
     "data": {
      "text/plain": [
       "array([[[-1.00000000e+00, -1.00000000e+00, -7.05866500e-02,\n",
       "         -1.00000000e+00],\n",
       "        [-2.94095000e-02, -1.00000000e+00, -1.00000000e+00,\n",
       "         -9.94106550e-02],\n",
       "        [ 2.33132197e-03,  8.41740724e-03,  2.07082344e-03,\n",
       "          7.42469534e-03],\n",
       "        [ 3.92154128e-03,  1.82256520e-03,  7.43539415e-03,\n",
       "          6.95820810e-04],\n",
       "        [ 8.85337204e-03,  9.52644399e-03,  9.31143435e-03,\n",
       "          4.15430953e-03]],\n",
       "\n",
       "       [[ 2.89816594e-04,  9.82027485e-03,  3.39637684e-03,\n",
       "          7.06687194e-03],\n",
       "        [-1.00000000e+00, -7.05866500e-02,  2.94150000e-02,\n",
       "         -1.00000000e+00],\n",
       "        [ 1.13450000e-01, -1.00000000e+00, -1.00000000e+00,\n",
       "         -2.94095000e-02],\n",
       "        [ 1.04217006e-04,  7.45567361e-04,  2.44629210e-03,\n",
       "          1.33304752e-03],\n",
       "        [ 6.97925100e-03,  3.98204884e-03,  8.83122191e-03,\n",
       "          1.81007510e-03]],\n",
       "\n",
       "       [[ 4.32499172e-03,  1.81432028e-04,  6.91437862e-03,\n",
       "          4.69690652e-03],\n",
       "        [ 1.28222190e-03,  8.91337051e-03,  9.18203624e-03,\n",
       "          7.31209937e-04],\n",
       "        [ 2.33500000e-01,  2.94150000e-02, -1.00000000e+00,\n",
       "         -1.00000000e+00],\n",
       "        [ 6.81908242e-03,  2.09013151e-03,  5.19604297e-03,\n",
       "          5.65988831e-03],\n",
       "        [ 4.41167393e-03,  1.37556157e-03,  2.13543191e-03,\n",
       "          1.33371892e-03]],\n",
       "\n",
       "       [[ 3.22296701e-03,  2.33887115e-03,  5.27498156e-03,\n",
       "          5.65971162e-03],\n",
       "        [ 4.38225285e-03,  3.21872624e-03,  5.59640811e-03,\n",
       "          8.65345581e-03],\n",
       "        [ 4.05000000e-01,  1.13450000e-01, -1.00000000e+00,\n",
       "         -1.00000000e+00],\n",
       "        [ 6.87089014e-03,  7.02235287e-03,  4.46197944e-03,\n",
       "          4.20322078e-03],\n",
       "        [ 8.02630591e-03,  5.38617565e-03,  9.23500489e-03,\n",
       "          6.19075372e-04]],\n",
       "\n",
       "       [[ 3.67583453e-03,  9.70398772e-03,  6.99103948e-03,\n",
       "          8.90975580e-03],\n",
       "        [ 2.53552718e-03,  7.25527106e-03,  2.03494435e-03,\n",
       "          5.37511824e-03],\n",
       "        [-1.00000000e+00,  2.33500000e-01,  6.50000000e-01,\n",
       "         -1.00000000e+00],\n",
       "        [-1.00000000e+00, -1.00000000e+00,  1.00000000e+00,\n",
       "          4.05000000e-01],\n",
       "        [ 6.53631448e-03,  3.58457783e-03,  5.22941567e-03,\n",
       "          4.50873123e-04]]])"
      ]
     },
     "execution_count": 92,
     "metadata": {},
     "output_type": "execute_result"
    }
   ],
   "source": [
    "game.Q"
   ]
  },
  {
   "cell_type": "code",
   "execution_count": null,
   "metadata": {},
   "outputs": [],
   "source": []
  }
 ],
 "metadata": {
  "kernelspec": {
   "display_name": "Python 2",
   "language": "python",
   "name": "python2"
  },
  "language_info": {
   "codemirror_mode": {
    "name": "ipython",
    "version": 2
   },
   "file_extension": ".py",
   "mimetype": "text/x-python",
   "name": "python",
   "nbconvert_exporter": "python",
   "pygments_lexer": "ipython2",
   "version": "2.7.12"
  }
 },
 "nbformat": 4,
 "nbformat_minor": 2
}
