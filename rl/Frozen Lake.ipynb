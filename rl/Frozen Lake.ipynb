{
 "cells": [
  {
   "cell_type": "code",
   "execution_count": 406,
   "metadata": {},
   "outputs": [],
   "source": [
    "from collections import Counter\n",
    "import numpy as np\n",
    "%matplotlib inline\n",
    "from matplotlib import pyplot as plt\n",
    "import copy"
   ]
  },
  {
   "cell_type": "code",
   "execution_count": 407,
   "metadata": {},
   "outputs": [],
   "source": [
    "def map_path(game, path):\n",
    "    '''\n",
    "    Print the chosen path on the game board.\n",
    "    '''\n",
    "    l = [x[:] for x in game.lake]\n",
    "    for x, y, a in path:\n",
    "        l[x][y] = FrozenLake.actions[a]\n",
    "    \n",
    "    return '\\n'.join(('|' + ''.join(row) + '|') for row in l).replace('F', ' ').replace('H', 'X')"
   ]
  },
  {
   "cell_type": "code",
   "execution_count": 408,
   "metadata": {},
   "outputs": [],
   "source": [
    "class FrozenLake(object):\n",
    "    '''\n",
    "    A frozen lake game! It's a lake that's frozen, but it's got some holes that you should\n",
    "    avoid. Or, maybe it's a desert with patches of quicksand. Either way, you have to get from \n",
    "    S(tart) to G(oal) without dying. it's 2D, so for any state, there are only four available \n",
    "    actions: left, right, up and down. But it's a windy, slippery landscape, so choosing to go \n",
    "    left only actually takes you left with a certain probability. The game is so easy that you\n",
    "    can just look at a board and see a winning strategy.\n",
    "    '''\n",
    "\n",
    "    actions = ['v', '^', '>', '<']\n",
    "    \n",
    "    def __init__(self, n=4, nholes=4, seed=501, windstrength=0.05):\n",
    "\n",
    "        np.random.seed(seed)\n",
    "\n",
    "        # for now, it's an n x n square lake\n",
    "        self.n = n \n",
    "        self.m = n\n",
    "        self.start = (0, 0)\n",
    "        self.goal = (self.n - 1, self.m - 1)\n",
    "        self.windstrength = windstrength\n",
    "        \n",
    "        # if you just construct holes randomly, it can potentially lead to unsolvable boards\n",
    "        # rather than deal with the complication of checking for solvability, I will construct\n",
    "        # boards that are guaranteed to be solvable. however, this limits the number of holes\n",
    "        # I will let you drill. Basically, I will first carve out a winning path. Then I will\n",
    "        # randomly place holes at the remaining spots until I have as many holes as requested.\n",
    "        self.nholes = nholes\n",
    "        assert nholes <= (self.n - 1) * (self.m - 1)\n",
    "\n",
    "        # the Q-value function, which maps states and actions to expected future-discounted\n",
    "        # rewards\n",
    "        self.Q = 0.01 * np.random.rand(self.n, self.m, len(self.actions))\n",
    "\n",
    "        # construct lake with holes\n",
    "        self.lake = None\n",
    "        self._freeze_lake()\n",
    "        \n",
    "     \n",
    "    def _freeze_lake(self):\n",
    "     \n",
    "        # the lake is after all ... frozen. Don't let the user freeze it twice.\n",
    "        if self.lake:\n",
    "            return\n",
    "        \n",
    "        # make base game with no holes\n",
    "        self.lake = [['F' for _ in range(self.m)] for _ in range(self.n)]       \n",
    "        self.lake[self.start[0]][self.start[1]] = 'S'\n",
    "        self.lake[self.goal[0]][self.goal[1]] = 'G'\n",
    "        \n",
    "        # choose first a winning path. we don't put holes here!!\n",
    "        # This works provided self.goal is dictionary-ordered > self.start.\n",
    "        x, y = self.start\n",
    "        self._winning_path = [(x, y)]\n",
    "        while (x, y) != self.goal:\n",
    "            \n",
    "            if x == self.goal[0]: # at boundary\n",
    "                y += 1\n",
    "            elif y == self.goal[1]: # at boundary\n",
    "                x += 1\n",
    "            else: # in bulk\n",
    "                right = int( np.random.random() > 0.5 )\n",
    "                x += right\n",
    "                y += 1 - right\n",
    "            \n",
    "            self._winning_path.append((x,y))\n",
    "        \n",
    "        # generate holes and add to the board\n",
    "        candidate_holes = list(set((x,y) for x in range(self.n) for y in range(self.m)) - set(self._winning_path))\n",
    "        np.random.shuffle(candidate_holes)\n",
    "        self.holes = candidate_holes[-self.nholes:]\n",
    "\n",
    "        for j, k in self.holes:\n",
    "            self.lake[j][k] = 'H'\n",
    "    \n",
    "        return\n",
    "    \n",
    "    \n",
    "    def _move(self, i, j, eps=0):\n",
    "        \n",
    "        #\n",
    "        # choose action: \n",
    "        #  * when learning, apply epsilon-greedy strategy, i.e., with probability 1 - eps,\n",
    "        #    move in direction direction of maximal Q value. With probability eps, choose\n",
    "        #    a direction at random\n",
    "        #  * when applying a learned strategy, you should set eps=0 and always move in\n",
    "        #    the direction of highest Q\n",
    "        #\n",
    "        if np.random.rand() < eps:\n",
    "            action = np.random.randint(0, 4)\n",
    "        else:\n",
    "            action = np.argmax(self.Q[i, j, :])\n",
    "        \n",
    "        # \n",
    "        # update state:\n",
    "        #  * regardless of chosen action, wind may randomly push the player in a direction\n",
    "        #    other than the one chosen. With probability 1 - self.windstrength, the chosen\n",
    "        #    action is actually taken. With probability self.windstrength, a random\n",
    "        #    action is executed\n",
    "        #\n",
    "        if np.random.rand() < self.windstrength:\n",
    "            effective_action = np.random.randint(0, 4)\n",
    "        else:\n",
    "            effective_action = action\n",
    "        \n",
    "        #\n",
    "        # The difference between the two sources of randomness is which Q(i,j,a) entry\n",
    "        # gets updated. In the first case, the chosen action changes, a --> a' and so\n",
    "        # Q(i,j, a') gets updated. In the second case, the chosen action is fixed, but \n",
    "        # the change of state is different. Thus, we update the state using effective_action,\n",
    "        # but return action to the user for updating the Q table\n",
    "        # \n",
    "        i1, j1 = i, j\n",
    "\n",
    "        if effective_action == 0:\n",
    "            i1 = i + 1\n",
    "        elif effective_action == 1:\n",
    "            i1 = i - 1\n",
    "        elif effective_action == 2:\n",
    "            j1 = j + 1\n",
    "        else:\n",
    "            j1 = j - 1\n",
    "    \n",
    "        return i1, j1, action\n",
    "    \n",
    "    \n",
    "    def play(self):\n",
    "        '''\n",
    "        Execute a learned policy but DO NOT update Q-factors.\n",
    "        '''\n",
    "        return self.learn(lr=0)\n",
    "    \n",
    "\n",
    "    def learn(self, lr=0.1, gamma=0.9, eps=0.1, rbase = -0.05):\n",
    "        '''\n",
    "        lr = learning rate\n",
    "        gamma = future discount factor\n",
    "        eps = epsilon-greedy parameter, smaller for less exploration\n",
    "        rbase = reward for survival (all points on board have same reward except death and goal)\n",
    "        '''\n",
    "        \n",
    "        path = []\n",
    "        i1, j1 = self.start\n",
    "        \n",
    "        while 1:\n",
    "            \n",
    "            # set start state to end state of last iteration\n",
    "            i, j = i1, j1\n",
    "\n",
    "            # find next position\n",
    "            i1, j1, action = self._move(i, j)\n",
    "            path.append((i, j, action))\n",
    "          \n",
    "            # check for death\n",
    "            if not 0 <= i1 < self.n or not 0 <= j1 < self.n or (i1, j1) in self.holes:\n",
    "                self.Q[i, j, action] = -1             \n",
    "                return path, 'DIE'\n",
    "            \n",
    "            # check for win\n",
    "            if (i1, j1) == self.goal:\n",
    "                self.Q[i, j, action] = 10\n",
    "                return path, 'WIN'\n",
    "\n",
    "            # continue\n",
    "            self.Q[i, j, action] = (1 - lr) * self.Q[i, j, action] + lr * (rbase + gamma * max(self.Q[i1, j1, :]))\n",
    "\n",
    "            \n",
    "    def __repr__(self):\n",
    "        return '\\n'.join(('|' + ''.join(row) + '|') for row in self.lake).replace('F', ' ').replace('H', 'X')\n"
   ]
  },
  {
   "cell_type": "code",
   "execution_count": 410,
   "metadata": {},
   "outputs": [
    {
     "name": "stdout",
     "output_type": "stream",
     "text": [
      "|S                X       |\n",
      "|       X    X       X    |\n",
      "|              X          |\n",
      "|                         |\n",
      "|                         |\n",
      "|                         |\n",
      "|                         |\n",
      "|X           X            |\n",
      "|                       X |\n",
      "|  X                 X    |\n",
      "|     X     XXX           |\n",
      "|                  X      |\n",
      "| X            X   X      |\n",
      "|  XX        X  X  X    X |\n",
      "|            X            |\n",
      "|                         |\n",
      "|        X               X|\n",
      "|   X X            X      |\n",
      "|                         |\n",
      "|X                 X      |\n",
      "|                     X   |\n",
      "|X                   X    |\n",
      "| XX        X             |\n",
      "|      X                  |\n",
      "|X                       G|\n"
     ]
    }
   ],
   "source": [
    "n = 25\n",
    "nholes = 40\n",
    "game = FrozenLake(n=n, nholes=nholes, seed=999)\n",
    "\n",
    "c = Counter() # to track site visit / Q updates\n",
    "print game\n",
    "\n",
    "#print map_path(game, [x + (0,) for x in game._winning_path])"
   ]
  },
  {
   "cell_type": "code",
   "execution_count": 411,
   "metadata": {
    "scrolled": false
   },
   "outputs": [
    {
     "name": "stdout",
     "output_type": "stream",
     "text": [
      "0 22 1000\n",
      "1 76 1000\n",
      "2 79 1000\n",
      "3 71 1000\n",
      "4 87 1000\n",
      "5 80 1000\n",
      "6 83 1000\n",
      "7 74 1000\n",
      "8 86 1000\n",
      "9 82 1000\n",
      "10 72 1000\n",
      "11 72 1000\n",
      "12 72 1000\n",
      "13 83 1000\n",
      "14 82 1000\n",
      "15 79 1000\n",
      "16 85 1000\n",
      "17 74 1000\n",
      "18 74 1000\n",
      "19 57 1000\n",
      "20 84 1000\n",
      "21 86 1000\n",
      "22 65 1000\n",
      "23 83 1000\n",
      "24 70 1000\n"
     ]
    }
   ],
   "source": [
    "Q = np.array(game.Q)\n",
    "batch_size = 10000\n",
    "play_size = 1000\n",
    "for batch in xrange(25):\n",
    "    \n",
    "    # train\n",
    "    paths = sum([game.learn(eps=0.25)[0] for n in range(batch_size)], [])\n",
    "    c.update([(p[0], p[1]) for p in paths])\n",
    "    \n",
    "    # execute\n",
    "    print batch, sum(x[1] == 'WIN' for x in [game.play() for n in range(play_size)]), play_size"
   ]
  },
  {
   "cell_type": "code",
   "execution_count": 422,
   "metadata": {},
   "outputs": [
    {
     "name": "stderr",
     "output_type": "stream",
     "text": [
      "/home/privitera/local/so1/so1-data-pipeline/env/lib/python2.7/site-packages/ipykernel_launcher.py:5: RuntimeWarning: divide by zero encountered in log\n",
      "  \"\"\"\n"
     ]
    },
    {
     "data": {
      "text/plain": [
       "(24.5, -0.5)"
      ]
     },
     "execution_count": 422,
     "metadata": {},
     "output_type": "execute_result"
    },
    {
     "data": {
      "image/png": "[encoded data removed]",
      "text/plain": [
       "<Figure size 432x288 with 1 Axes>"
      ]
     },
     "metadata": {},
     "output_type": "display_data"
    }
   ],
   "source": [
    "# plot how often a given site was visited\n",
    "y = np.zeros((game.n, game.m))\n",
    "for key, val in c.iteritems():\n",
    "    y[key] = val\n",
    "plt.pcolor(np.log(y)) # need to flip y-axis to match above\n",
    "\n",
    "for x, y in game.holes:\n",
    "    plt.gca().scatter([y], [x], lw=2, c='r', marker='x', s=70)\n",
    "\n",
    "plt.xlim(-0.5, game.n - 0.5)\n",
    "plt.ylim(game.m - 0.5, -0.5)"
   ]
  },
  {
   "cell_type": "code",
   "execution_count": 423,
   "metadata": {},
   "outputs": [
    {
     "name": "stdout",
     "output_type": "stream",
     "text": [
      "|v                X       |\n",
      "|v      X    X       X    |\n",
      "|v             X          |\n",
      "|v                        |\n",
      "|v>>>>>v                  |\n",
      "|      v                  |\n",
      "|      v                  |\n",
      "|X     >v    X            |\n",
      "|       v               X |\n",
      "|  X    v            X    |\n",
      "|     X >vv XXX           |\n",
      "|         v        X      |\n",
      "| X       v    X   X      |\n",
      "|  XX     v  X  X  X    X |\n",
      "|         >v X            |\n",
      "|          >v             |\n",
      "|        X  >>>v         X|\n",
      "|   X X        v   X      |\n",
      "|              v          |\n",
      "|X             >v  X      |\n",
      "|               v     X   |\n",
      "|X              >v   X    |\n",
      "| XX        X    >>v      |\n",
      "|      X           >>>>>>v|\n",
      "|X                       G|\n"
     ]
    }
   ],
   "source": [
    "path, _ = game.play()\n",
    "path\n",
    "print map_path(game, path)"
   ]
  },
  {
   "cell_type": "code",
   "execution_count": 424,
   "metadata": {},
   "outputs": [
    {
     "data": {
      "text/plain": [
       "(24.5, -0.5)"
      ]
     },
     "execution_count": 424,
     "metadata": {},
     "output_type": "execute_result"
    },
    {
     "data": {
      "image/png": "[encoded data removed]",
      "text/plain": [
       "<Figure size 720x720 with 1 Axes>"
      ]
     },
     "metadata": {},
     "output_type": "display_data"
    }
   ],
   "source": [
    "#\n",
    "# visualize learned strategy\n",
    "#\n",
    "actions = ['v', '^', '>', '<']\n",
    "moves = game.Q.argmax(axis=2)\n",
    "fig = plt.figure(figsize=(10,10))\n",
    "ax = fig.gca()\n",
    "#axes[0,0].pcolor(moves == 0) # down\n",
    "#axes[0,1].pcolor(moves == 1) # up\n",
    "#axes[1,0].pcolor(moves == 2) # left\n",
    "#axes[1,1].pcolor(moves == 3) # right\n",
    "\n",
    "for x in range(game.n):\n",
    "    for y in range(game.m):\n",
    "        if (x,y) in game.holes:\n",
    "            marker = 'x'\n",
    "            c = 'r'\n",
    "        elif (x,y) == game.goal:\n",
    "            marker = ','\n",
    "            c = 'g'\n",
    "        else:\n",
    "            marker = actions[moves[x,y]]\n",
    "            c = 'k'\n",
    "\n",
    "        ax.scatter([y], [x], lw=2, c=c, marker=marker, s=70)        \n",
    "\n",
    "plt.xlim(-0.5, game.n - 0.5)\n",
    "plt.ylim(game.m - 0.5, -0.5)"
   ]
  },
  {
   "cell_type": "code",
   "execution_count": null,
   "metadata": {},
   "outputs": [],
   "source": []
  }
 ],
 "metadata": {
  "kernelspec": {
   "display_name": "Python 2",
   "language": "python",
   "name": "python2"
  },
  "language_info": {
   "codemirror_mode": {
    "name": "ipython",
    "version": 2
   },
   "file_extension": ".py",
   "mimetype": "text/x-python",
   "name": "python",
   "nbconvert_exporter": "python",
   "pygments_lexer": "ipython2",
   "version": "2.7.12"
  }
 },
 "nbformat": 4,
 "nbformat_minor": 2
}
