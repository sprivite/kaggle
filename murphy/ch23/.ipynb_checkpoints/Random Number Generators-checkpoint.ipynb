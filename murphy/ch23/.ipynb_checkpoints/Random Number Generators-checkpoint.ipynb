{
 "cells": [
  {
   "cell_type": "markdown",
   "metadata": {},
   "source": [
    "\n",
    "## Generate random numbers from various distributions in pure python"
   ]
  },
  {
   "cell_type": "code",
   "execution_count": 90,
   "metadata": {},
   "outputs": [],
   "source": [
    "import matplotlib\n",
    "%matplotlib inline\n",
    "from matplotlib import pyplot as plt"
   ]
  },
  {
   "cell_type": "code",
   "execution_count": 110,
   "metadata": {},
   "outputs": [],
   "source": [
    "class RandomUniform():\n",
    "    '''\n",
    "    Generate a random number by the middle square method. The parameter n\n",
    "    governs the number of digits in the resulting random number. \n",
    "    '''\n",
    "    def __init__(self, n=10):\n",
    "        self.seed = int('123456789'[:n])\n",
    "        self.n = n\n",
    "        self.slice = slice(int(-n - n/2), int(-n/2))\n",
    "\n",
    "    def set_seed(self, seed):\n",
    "        '''\n",
    "        Manually set / reset instance seed.\n",
    "        '''\n",
    "        self.seed = seed\n",
    "\n",
    "    def __next__(self):\n",
    "\n",
    "        s = str(self.seed**2)\n",
    "        self.seed = int(s[self.slice])\n",
    "        \n",
    "        return(self.seed / 10**self.n)"
   ]
  },
  {
   "cell_type": "code",
   "execution_count": 122,
   "metadata": {},
   "outputs": [],
   "source": [
    "r = RandomUniform(n=6)\n",
    "r.set_seed(886688)"
   ]
  },
  {
   "cell_type": "code",
   "execution_count": 123,
   "metadata": {},
   "outputs": [
    {
     "data": {
      "image/png": "[encoded data removed]",
      "text/plain": [
       "<Figure size 432x288 with 1 Axes>"
      ]
     },
     "metadata": {},
     "output_type": "display_data"
    }
   ],
   "source": [
    "plt.hist([next(r) for _ in range(100000)], bins=100)\n",
    "plt.show()"
   ]
  },
  {
   "cell_type": "code",
   "execution_count": 125,
   "metadata": {},
   "outputs": [
    {
     "name": "stdout",
     "output_type": "stream",
     "text": [
      "0.401\n",
      "0.801\n",
      "0.601\n",
      "0.201\n",
      "0.401\n",
      "0.801\n",
      "0.601\n",
      "0.201\n",
      "0.401\n",
      "0.801\n"
     ]
    }
   ],
   "source": [
    "for j in range(10): print(next(r))"
   ]
  },
  {
   "cell_type": "markdown",
   "metadata": {},
   "source": [
    "## Using the builtin python implementation of MT19337"
   ]
  },
  {
   "cell_type": "code",
   "execution_count": 127,
   "metadata": {},
   "outputs": [],
   "source": [
    "import random"
   ]
  },
  {
   "cell_type": "code",
   "execution_count": 128,
   "metadata": {},
   "outputs": [],
   "source": [
    "?random.randint"
   ]
  },
  {
   "cell_type": "code",
   "execution_count": null,
   "metadata": {},
   "outputs": [],
   "source": []
  }
 ],
 "metadata": {
  "kernelspec": {
   "display_name": "Python 3",
   "language": "python",
   "name": "python3"
  },
  "language_info": {
   "codemirror_mode": {
    "name": "ipython",
    "version": 3
   },
   "file_extension": ".py",
   "mimetype": "text/x-python",
   "name": "python",
   "nbconvert_exporter": "python",
   "pygments_lexer": "ipython3",
   "version": "3.5.2"
  }
 },
 "nbformat": 4,
 "nbformat_minor": 2
}
