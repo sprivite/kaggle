{
 "cells": [
  {
   "cell_type": "code",
   "execution_count": 1,
   "metadata": {
    "collapsed": true
   },
   "outputs": [],
   "source": [
    "# In this notebook, we explore the basic properties of the InstaCart datasets. Our\n",
    "# mission here is to:\n",
    "#   1. Familiarize ourselves with the structure of the data sets,\n",
    "#   2. Understand basic statistics about the data, to get a feel for\n",
    "#      what we might be able to do with the data\n",
    "#   3. Assess data quality and perform basic sanity checks. Do the data\n",
    "#      agree with the claimed specs? Are values missing? Are some values\n",
    "#      clearly insane and need to be removed?\n",
    "#   4. Develop a baseline strategy for answering the data challenge.\n",
    "#\n",
    "\n",
    "#\n",
    "# This script continues from basket_sizes.ipynb. We give broad overview statistics\n",
    "# of how much information we have about the individual users.\n",
    "#"
   ]
  },
  {
   "cell_type": "code",
   "execution_count": 2,
   "metadata": {
    "collapsed": true
   },
   "outputs": [],
   "source": [
    "import pandas as pd\n",
    "import numpy as np\n",
    "from math import factorial\n",
    "\n",
    "import matplotlib as mpl\n",
    "import matplotlib.pyplot as plt\n",
    "%matplotlib inline\n",
    "mpl.rcParams['figure.figsize'] = (10, 6)"
   ]
  },
  {
   "cell_type": "code",
   "execution_count": 3,
   "metadata": {},
   "outputs": [
    {
     "name": "stdout",
     "output_type": "stream",
     "text": [
      "Reading orders data ...  done.\n"
     ]
    }
   ],
   "source": [
    "print \"Reading orders data ... \",\n",
    "\n",
    "# The raw data take about 750Mb total on disk.\n",
    "prior = pd.read_csv('order_products__prior.csv')\n",
    "train = pd.read_csv('order_products__train.csv')\n",
    "orders = pd.read_csv('orders.csv')\n",
    "departments = pd.read_csv('departments.csv')\n",
    "products = pd.read_csv('products.csv')\n",
    "prior = prior.merge(orders, on='order_id', how='left')\n",
    "\n",
    "print \"done.\""
   ]
  },
  {
   "cell_type": "code",
   "execution_count": 6,
   "metadata": {},
   "outputs": [
    {
     "name": "stdout",
     "output_type": "stream",
     "text": [
      " Total users: 206209\n",
      "\n",
      "Min prev orders: 3\n",
      "Max prev orders: 99\n",
      "Percentiles:\n",
      "\t10: 3.0\n",
      "\t50: 9.0\n",
      "\t90: 37.0\n",
      "\t99: 88.0\n",
      "Avg prev orders: 15.590\n",
      "\n",
      "Min prevly ordered products: 3\n",
      "Max prevly ordered products: 3725\n",
      "Percentiles:\n",
      "\t10: 20.0\n",
      "\t50: 83.0\n",
      "\t90: 386.0\n",
      "\t99: 1004.0\n",
      "Avg prevly ordered products: 157.289\n"
     ]
    }
   ],
   "source": [
    "#\n",
    "# How many order history do we have per user?\n",
    "#\n",
    "\n",
    "# number of orders per user\n",
    "norders = prior.groupby('user_id').apply(lambda x: len(set(x['order_id'])))\n",
    "\n",
    "# number of products orders per user\n",
    "nproducts = prior.groupby('user_id').apply(len) \n",
    "\n",
    "# basic summary statistics\n",
    "pctiles_ord = list(norders.quantile([0.1, 0.5, 0.9, 0.99]))\n",
    "pctiles_prod = list(nproducts.quantile([0.1, 0.5, 0.9, 0.99]))\n",
    "print \"Total users:\", len(norders)\n",
    "print\n",
    "print \"Min prev orders:\", min(norders)\n",
    "print \"Max prev orders:\", max(norders)\n",
    "print \"Percentiles:\"\n",
    "print \"\\t10:\", pctiles_ord[0]\n",
    "print \"\\t50:\", pctiles_ord[1]\n",
    "print \"\\t90:\", pctiles_ord[2]\n",
    "print \"\\t99:\", pctiles_ord[3]\n",
    "print \"Avg prev orders: %.3f\" % norders.mean()\n",
    "print\n",
    "print \"Min prevly ordered products:\", min(nproducts)\n",
    "print \"Max prevly ordered products:\", max(nproducts)\n",
    "print \"Percentiles:\"\n",
    "print \"\\t10:\", pctiles_prod[0]\n",
    "print \"\\t50:\", pctiles_prod[1]\n",
    "print \"\\t90:\", pctiles_prod[2]\n",
    "print \"\\t99:\", pctiles_prod[3]\n",
    "print \"Avg prevly ordered products: %.3f\" % nproducts.mean()"
   ]
  },
  {
   "cell_type": "code",
   "execution_count": 7,
   "metadata": {},
   "outputs": [],
   "source": [
    "#\n",
    "# Note that the order history is in the range [3, 99], not [4, 100], as claimed in\n",
    "# in the challenge description. This is because Kaggle is counting the *train* and\n",
    "# *test* orders, which from a model development point of view don't count to me.\n",
    "#\n",
    "\n",
    "#\n",
    "# Note also that the worst case scenario is achieved -- a user that has only ever\n",
    "# purchased three items!!\n",
    "#"
   ]
  },
  {
   "cell_type": "code",
   "execution_count": 16,
   "metadata": {},
   "outputs": [
    {
     "data": {
      "image/png": "[encoded data removed]",
      "text/plain": [
       "<matplotlib.figure.Figure at 0x111e3f250>"
      ]
     },
     "metadata": {},
     "output_type": "display_data"
    },
    {
     "data": {
      "image/png": "[encoded data removed]",
      "text/plain": [
       "<matplotlib.figure.Figure at 0x116696510>"
      ]
     },
     "metadata": {},
     "output_type": "display_data"
    }
   ],
   "source": [
    "# a visualization of the data from the above cells\n",
    "bins = np.linspace(2.5, 99.5, 98)\n",
    "ax = plt.gca()\n",
    "n, bins, patches = ax.hist(norders, bins=bins, log = True)\n",
    "plt.xlabel('previous orders')\n",
    "plt.ylabel('number of users')\n",
    "plt.grid()\n",
    "plt.xlim(xmin=3)\n",
    "plt.ylim(ymin=10)\n",
    "plt.show()\n",
    "\n",
    "\n",
    "bins = np.linspace(2.5, 1500.5, 150)\n",
    "ax = plt.gca()\n",
    "n, bins, patches = ax.hist(nproducts, bins=bins, log = True)\n",
    "plt.xlabel('previously ordered prodcuts')\n",
    "plt.ylabel('number of users')\n",
    "plt.grid()\n",
    "plt.xlim(xmin=3)\n",
    "plt.ylim(ymin=10)\n",
    "plt.show()"
   ]
  },
  {
   "cell_type": "code",
   "execution_count": null,
   "metadata": {
    "collapsed": true
   },
   "outputs": [],
   "source": [
    "#\n",
    "# Hmmm... the number of previous orders looks a lot like the basket size\n",
    "# plot. I have no further deep insights here. I will simply note the global\n",
    "# takeaway lesson here: \n",
    "#\n",
    "#     The quantity of our user data falls off in a power-law fashion.\n",
    "#"
   ]
  }
 ],
 "metadata": {
  "kernelspec": {
   "display_name": "Python 2",
   "language": "python",
   "name": "python2"
  },
  "language_info": {
   "codemirror_mode": {
    "name": "ipython",
    "version": 2
   },
   "file_extension": ".py",
   "mimetype": "text/x-python",
   "name": "python",
   "nbconvert_exporter": "python",
   "pygments_lexer": "ipython2",
   "version": "2.7.13"
  }
 },
 "nbformat": 4,
 "nbformat_minor": 2
}
