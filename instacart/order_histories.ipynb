{
 "cells": [
  {
   "cell_type": "code",
   "execution_count": 39,
   "metadata": {
    "collapsed": true
   },
   "outputs": [],
   "source": [
    "# In this notebook, we explore the basic properties of the InstaCart datasets. Our\n",
    "# mission here is to:\n",
    "#   1. Familiarize ourselves with the structure of the data sets,\n",
    "#   2. Understand basic statistics about the data, to get a feel for\n",
    "#      what we might be able to do with the data\n",
    "#   3. Assess data quality and perform basic sanity checks. Do the data\n",
    "#      agree with the claimed specs? Are values missing? Are some values\n",
    "#      clearly insane and need to be removed?\n",
    "#   4. Develop a baseline strategy for answering the data challenge.\n",
    "#\n",
    "\n",
    "#\n",
    "# This script continues from basket_sizes.ipynb. We give broad overview statistics\n",
    "# of how much information we have about the individual users.\n",
    "#"
   ]
  },
  {
   "cell_type": "code",
   "execution_count": 40,
   "metadata": {
    "collapsed": true
   },
   "outputs": [],
   "source": [
    "import pandas as pd\n",
    "import numpy as np\n",
    "from math import factorial\n",
    "\n",
    "import matplotlib as mpl\n",
    "import matplotlib.pyplot as plt\n",
    "%matplotlib inline\n",
    "mpl.rcParams['figure.figsize'] = (10, 6)"
   ]
  },
  {
   "cell_type": "code",
   "execution_count": 42,
   "metadata": {},
   "outputs": [
    {
     "name": "stdout",
     "output_type": "stream",
     "text": [
      "Reading orders data ...  done.\n"
     ]
    }
   ],
   "source": [
    "print \"Reading orders data ... \",\n",
    "\n",
    "# The raw data take about 750Mb total on disk.\n",
    "prior = pd.read_csv('order_products__prior.csv')\n",
    "train = pd.read_csv('order_products__train.csv')\n",
    "orders = pd.read_csv('orders.csv')\n",
    "departments = pd.read_csv('departments.csv')\n",
    "products = pd.read_csv('products.csv')\n",
    "prior = prior.merge(orders, on='order_id', how='left')\n",
    "\n",
    "print \"done.\""
   ]
  },
  {
   "cell_type": "code",
   "execution_count": 43,
   "metadata": {},
   "outputs": [
    {
     "ename": "TypeError",
     "evalue": "'type' object has no attribute '__getitem__'",
     "output_type": "error",
     "traceback": [
      "\u001b[0;31m---------------------------------------------------------------------------\u001b[0m",
      "\u001b[0;31mTypeError\u001b[0m                                 Traceback (most recent call last)",
      "\u001b[0;32m<ipython-input-43-73ec7651af78>\u001b[0m in \u001b[0;36m<module>\u001b[0;34m()\u001b[0m\n\u001b[1;32m     10\u001b[0m \u001b[0;34m\u001b[0m\u001b[0m\n\u001b[1;32m     11\u001b[0m \u001b[0;31m# number of unique product per user\u001b[0m\u001b[0;34m\u001b[0m\u001b[0;34m\u001b[0m\u001b[0m\n\u001b[0;32m---> 12\u001b[0;31m \u001b[0mu_nproducts\u001b[0m \u001b[0;34m=\u001b[0m \u001b[0mprior\u001b[0m\u001b[0;34m.\u001b[0m\u001b[0mgroupby\u001b[0m\u001b[0;34m(\u001b[0m\u001b[0;34m'user_id'\u001b[0m\u001b[0;34m)\u001b[0m\u001b[0;34m.\u001b[0m\u001b[0mapply\u001b[0m\u001b[0;34m(\u001b[0m\u001b[0;32mlambda\u001b[0m \u001b[0mx\u001b[0m\u001b[0;34m:\u001b[0m \u001b[0mlen\u001b[0m\u001b[0;34m(\u001b[0m\u001b[0mset\u001b[0m\u001b[0;34m[\u001b[0m\u001b[0;34m'product_id'\u001b[0m\u001b[0;34m]\u001b[0m\u001b[0;34m)\u001b[0m\u001b[0;34m)\u001b[0m\u001b[0;34m\u001b[0m\u001b[0m\n\u001b[0m\u001b[1;32m     13\u001b[0m \u001b[0;34m\u001b[0m\u001b[0m\n\u001b[1;32m     14\u001b[0m \u001b[0;31m# basic summary statistics\u001b[0m\u001b[0;34m\u001b[0m\u001b[0;34m\u001b[0m\u001b[0m\n",
      "\u001b[0;32m/opt/local/Library/Frameworks/Python.framework/Versions/2.7/lib/python2.7/site-packages/pandas/core/groupby.pyc\u001b[0m in \u001b[0;36mapply\u001b[0;34m(self, func, *args, **kwargs)\u001b[0m\n\u001b[1;32m    692\u001b[0m         \u001b[0;31m# ignore SettingWithCopy here in case the user mutates\u001b[0m\u001b[0;34m\u001b[0m\u001b[0;34m\u001b[0m\u001b[0m\n\u001b[1;32m    693\u001b[0m         \u001b[0;32mwith\u001b[0m \u001b[0moption_context\u001b[0m\u001b[0;34m(\u001b[0m\u001b[0;34m'mode.chained_assignment'\u001b[0m\u001b[0;34m,\u001b[0m \u001b[0mNone\u001b[0m\u001b[0;34m)\u001b[0m\u001b[0;34m:\u001b[0m\u001b[0;34m\u001b[0m\u001b[0m\n\u001b[0;32m--> 694\u001b[0;31m             \u001b[0;32mreturn\u001b[0m \u001b[0mself\u001b[0m\u001b[0;34m.\u001b[0m\u001b[0m_python_apply_general\u001b[0m\u001b[0;34m(\u001b[0m\u001b[0mf\u001b[0m\u001b[0;34m)\u001b[0m\u001b[0;34m\u001b[0m\u001b[0m\n\u001b[0m\u001b[1;32m    695\u001b[0m \u001b[0;34m\u001b[0m\u001b[0m\n\u001b[1;32m    696\u001b[0m     \u001b[0;32mdef\u001b[0m \u001b[0m_python_apply_general\u001b[0m\u001b[0;34m(\u001b[0m\u001b[0mself\u001b[0m\u001b[0;34m,\u001b[0m \u001b[0mf\u001b[0m\u001b[0;34m)\u001b[0m\u001b[0;34m:\u001b[0m\u001b[0;34m\u001b[0m\u001b[0m\n",
      "\u001b[0;32m/opt/local/Library/Frameworks/Python.framework/Versions/2.7/lib/python2.7/site-packages/pandas/core/groupby.pyc\u001b[0m in \u001b[0;36m_python_apply_general\u001b[0;34m(self, f)\u001b[0m\n\u001b[1;32m    696\u001b[0m     \u001b[0;32mdef\u001b[0m \u001b[0m_python_apply_general\u001b[0m\u001b[0;34m(\u001b[0m\u001b[0mself\u001b[0m\u001b[0;34m,\u001b[0m \u001b[0mf\u001b[0m\u001b[0;34m)\u001b[0m\u001b[0;34m:\u001b[0m\u001b[0;34m\u001b[0m\u001b[0m\n\u001b[1;32m    697\u001b[0m         keys, values, mutated = self.grouper.apply(f, self._selected_obj,\n\u001b[0;32m--> 698\u001b[0;31m                                                    self.axis)\n\u001b[0m\u001b[1;32m    699\u001b[0m \u001b[0;34m\u001b[0m\u001b[0m\n\u001b[1;32m    700\u001b[0m         return self._wrap_applied_output(\n",
      "\u001b[0;32m/opt/local/Library/Frameworks/Python.framework/Versions/2.7/lib/python2.7/site-packages/pandas/core/groupby.pyc\u001b[0m in \u001b[0;36mapply\u001b[0;34m(self, f, data, axis)\u001b[0m\n\u001b[1;32m   1609\u001b[0m             \u001b[0;31m# group might be modified\u001b[0m\u001b[0;34m\u001b[0m\u001b[0;34m\u001b[0m\u001b[0m\n\u001b[1;32m   1610\u001b[0m             \u001b[0mgroup_axes\u001b[0m \u001b[0;34m=\u001b[0m \u001b[0m_get_axes\u001b[0m\u001b[0;34m(\u001b[0m\u001b[0mgroup\u001b[0m\u001b[0;34m)\u001b[0m\u001b[0;34m\u001b[0m\u001b[0m\n\u001b[0;32m-> 1611\u001b[0;31m             \u001b[0mres\u001b[0m \u001b[0;34m=\u001b[0m \u001b[0mf\u001b[0m\u001b[0;34m(\u001b[0m\u001b[0mgroup\u001b[0m\u001b[0;34m)\u001b[0m\u001b[0;34m\u001b[0m\u001b[0m\n\u001b[0m\u001b[1;32m   1612\u001b[0m             \u001b[0;32mif\u001b[0m \u001b[0;32mnot\u001b[0m \u001b[0m_is_indexed_like\u001b[0m\u001b[0;34m(\u001b[0m\u001b[0mres\u001b[0m\u001b[0;34m,\u001b[0m \u001b[0mgroup_axes\u001b[0m\u001b[0;34m)\u001b[0m\u001b[0;34m:\u001b[0m\u001b[0;34m\u001b[0m\u001b[0m\n\u001b[1;32m   1613\u001b[0m                 \u001b[0mmutated\u001b[0m \u001b[0;34m=\u001b[0m \u001b[0mTrue\u001b[0m\u001b[0;34m\u001b[0m\u001b[0m\n",
      "\u001b[0;32m<ipython-input-43-73ec7651af78>\u001b[0m in \u001b[0;36m<lambda>\u001b[0;34m(x)\u001b[0m\n\u001b[1;32m     10\u001b[0m \u001b[0;34m\u001b[0m\u001b[0m\n\u001b[1;32m     11\u001b[0m \u001b[0;31m# number of unique product per user\u001b[0m\u001b[0;34m\u001b[0m\u001b[0;34m\u001b[0m\u001b[0m\n\u001b[0;32m---> 12\u001b[0;31m \u001b[0mu_nproducts\u001b[0m \u001b[0;34m=\u001b[0m \u001b[0mprior\u001b[0m\u001b[0;34m.\u001b[0m\u001b[0mgroupby\u001b[0m\u001b[0;34m(\u001b[0m\u001b[0;34m'user_id'\u001b[0m\u001b[0;34m)\u001b[0m\u001b[0;34m.\u001b[0m\u001b[0mapply\u001b[0m\u001b[0;34m(\u001b[0m\u001b[0;32mlambda\u001b[0m \u001b[0mx\u001b[0m\u001b[0;34m:\u001b[0m \u001b[0mlen\u001b[0m\u001b[0;34m(\u001b[0m\u001b[0mset\u001b[0m\u001b[0;34m[\u001b[0m\u001b[0;34m'product_id'\u001b[0m\u001b[0;34m]\u001b[0m\u001b[0;34m)\u001b[0m\u001b[0;34m)\u001b[0m\u001b[0;34m\u001b[0m\u001b[0m\n\u001b[0m\u001b[1;32m     13\u001b[0m \u001b[0;34m\u001b[0m\u001b[0m\n\u001b[1;32m     14\u001b[0m \u001b[0;31m# basic summary statistics\u001b[0m\u001b[0;34m\u001b[0m\u001b[0;34m\u001b[0m\u001b[0m\n",
      "\u001b[0;31mTypeError\u001b[0m: 'type' object has no attribute '__getitem__'"
     ]
    }
   ],
   "source": [
    "#\n",
    "# How many order history do we have per user?\n",
    "#\n",
    "\n",
    "# number of orders per user\n",
    "norders = prior.groupby('user_id').apply(lambda x: len(set(x['order_id'])))\n",
    "\n",
    "# number of products orders per user\n",
    "nproducts = prior.groupby('user_id').apply(len) \n",
    "\n",
    "# number of unique product per user\n",
    "u_nproducts = prior.groupby('user_id').apply(lambda x: len(set['product_id']))\n",
    "\n",
    "# basic summary statistics\n",
    "pctiles_ord = list(norders.quantile([0.1, 0.5, 0.9, 0.99]))\n",
    "pctiles_prod = list(nproducts.quantile([0.1, 0.5, 0.9, 0.99]))\n",
    "pctiles_uprod = list(u_nproducts.quantile([0.1, 0.5, 0.9, 0.99]))\n",
    "print \"Total users:\", len(norders)\n",
    "print\n",
    "print \"Min prev orders:\", min(norders)\n",
    "print \"Max prev orders:\", max(norders)\n",
    "print \"Percentiles:\"\n",
    "print \"\\t10:\", pctiles_ord[0]\n",
    "print \"\\t50:\", pctiles_ord[1]\n",
    "print \"\\t90:\", pctiles_ord[2]\n",
    "print \"\\t99:\", pctiles_ord[3]\n",
    "print \"Avg prev orders: %.3f\" % norders.mean()\n",
    "print\n",
    "print \"Min prevly ordered products:\", min(nproducts)\n",
    "print \"Max prevly ordered products:\", max(nproducts)\n",
    "print \"Percentiles:\"\n",
    "print \"\\t10:\", pctiles_prod[0]\n",
    "print \"\\t50:\", pctiles_prod[1]\n",
    "print \"\\t90:\", pctiles_prod[2]\n",
    "print \"\\t99:\", pctiles_prod[3]\n",
    "print \"Avg prevly ordered products: %.3f\" % nproducts.mean()\n",
    "print\n",
    "print \"Min unique prevly ordered products:\", min(u_nproducts)\n",
    "print \"Max unique prevly ordered products:\", max(u_nproducts)\n",
    "print \"Percentiles:\"\n",
    "print \"\\t10:\", pctiles_uprod[0]\n",
    "print \"\\t50:\", pctiles_uprod[1]\n",
    "print \"\\t90:\", pctiles_uprod[2]\n",
    "print \"\\t99:\", pctiles_uprod[3]\n",
    "print \"Avg unique prevly ordered products: %.3f\" % u_nproducts.mean()"
   ]
  },
  {
   "cell_type": "code",
   "execution_count": 7,
   "metadata": {
    "collapsed": true
   },
   "outputs": [],
   "source": [
    "#\n",
    "# Note that the order history is in the range [3, 99], not [4, 100], as claimed in\n",
    "# in the challenge description. This is because Kaggle is counting the *train* and\n",
    "# *test* orders, which from a model development point of view don't count to me.\n",
    "#\n",
    "\n",
    "#\n",
    "# Note also that the worst case scenario is achieved -- a user that has only ever\n",
    "# purchased three items!!\n",
    "#"
   ]
  },
  {
   "cell_type": "code",
   "execution_count": 16,
   "metadata": {},
   "outputs": [
    {
     "data": {
      "image/png": "[encoded data removed]",
      "text/plain": [
       "<matplotlib.figure.Figure at 0x111e3f250>"
      ]
     },
     "metadata": {},
     "output_type": "display_data"
    },
    {
     "data": {
      "image/png": "[encoded data removed]",
      "text/plain": [
       "<matplotlib.figure.Figure at 0x116696510>"
      ]
     },
     "metadata": {},
     "output_type": "display_data"
    }
   ],
   "source": [
    "# a visualization of the data from the above cells\n",
    "bins = np.linspace(2.5, 99.5, 98)\n",
    "ax = plt.gca()\n",
    "n, bins, patches = ax.hist(norders, bins=bins, log = True)\n",
    "plt.xlabel('previous orders')\n",
    "plt.ylabel('number of users')\n",
    "plt.grid()\n",
    "plt.xlim(xmin=3)\n",
    "plt.ylim(ymin=10)\n",
    "plt.show()\n",
    "\n",
    "\n",
    "bins = np.linspace(2.5, 1500.5, 150)\n",
    "ax = plt.gca()\n",
    "n, bins, patches = ax.hist(nproducts, bins=bins, log = True)\n",
    "plt.xlabel('previously ordered prodcuts')\n",
    "plt.ylabel('number of users')\n",
    "plt.grid()\n",
    "plt.xlim(xmin=3)\n",
    "plt.ylim(ymin=10)\n",
    "plt.show()"
   ]
  },
  {
   "cell_type": "code",
   "execution_count": null,
   "metadata": {
    "collapsed": true
   },
   "outputs": [],
   "source": [
    "#\n",
    "# Hmmm... the number of previous orders looks a lot like the basket size\n",
    "# plot. I have no further deep insights here. I will simply note the global\n",
    "# takeaway lesson here: \n",
    "#\n",
    "#     The quantity of our user data falls off in a power-law fashion.\n",
    "#"
   ]
  },
  {
   "cell_type": "code",
   "execution_count": 36,
   "metadata": {
    "collapsed": true
   },
   "outputs": [],
   "source": [
    "# let's check out quickly some two-D statistics\n",
    "norders = norders.reset_index(name='norders')\n",
    "nproducts = nproducts.reset_index(name='nproducts')"
   ]
  },
  {
   "cell_type": "code",
   "execution_count": 38,
   "metadata": {},
   "outputs": [
    {
     "data": {
      "image/png": "[encoded data removed]",
      "text/plain": [
       "<matplotlib.figure.Figure at 0x1121e41d0>"
      ]
     },
     "metadata": {},
     "output_type": "display_data"
    }
   ],
   "source": [
    "from matplotlib.colors import LogNorm\n",
    "\n",
    "x = norders.merge(nproducts, on='user_id', how='left')\n",
    "plt.hist2d(x['norders'], x['nproducts'], bins = 40, norm=LogNorm())\n",
    "plt.colorbar().set_label('n users')\n",
    "plt.xlabel('n orders')\n",
    "plt.ylabel('n products')\n",
    "plt.show()"
   ]
  },
  {
   "cell_type": "code",
   "execution_count": null,
   "metadata": {
    "collapsed": true
   },
   "outputs": [],
   "source": [
    "# I was looking to see some sort of correlation like \"those that order more \n",
    "# tend to order more per order\", but I don't see it. In fact, it looks like\n",
    "# the average products per order is independent of how many previous orders\n",
    "# the customer made."
   ]
  }
 ],
 "metadata": {
  "kernelspec": {
   "display_name": "Python 2",
   "language": "python",
   "name": "python2"
  },
  "language_info": {
   "codemirror_mode": {
    "name": "ipython",
    "version": 2
   },
   "file_extension": ".py",
   "mimetype": "text/x-python",
   "name": "python",
   "nbconvert_exporter": "python",
   "pygments_lexer": "ipython2",
   "version": "2.7.13"
  }
 },
 "nbformat": 4,
 "nbformat_minor": 2
}
