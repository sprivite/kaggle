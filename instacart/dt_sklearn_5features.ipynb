{
 "cells": [
  {
   "cell_type": "code",
   "execution_count": 125,
   "metadata": {},
   "outputs": [],
   "source": [
    "import pandas as pd\n",
    "import numpy as np\n",
    "from scipy import stats\n",
    "from collections import Counter\n",
    "from evaluate import f1score\n",
    "from sklearn.tree import DecisionTreeClassifier, export_graphviz\n",
    "from sklearn.ensemble import RandomForestClassifier"
   ]
  },
  {
   "cell_type": "code",
   "execution_count": 45,
   "metadata": {},
   "outputs": [
    {
     "name": "stdout",
     "output_type": "stream",
     "text": [
      "Reading and merging orders tables ...  done.\n"
     ]
    }
   ],
   "source": [
    "#\n",
    "# Read in training (and validation) data\n",
    "# \n",
    "\n",
    "print \"Reading and merging orders tables ... \",\n",
    "\n",
    "train = pd.read_csv('order_products__train.csv')\n",
    "prior = pd.read_csv('order_products__prior.csv')\n",
    "orders = pd.read_csv('orders.csv')\n",
    "products = pd.read_csv('products.csv')\n",
    "\n",
    "train = train.merge(\n",
    "    orders, on='order_id', how='left').merge(\n",
    "    products, on='product_id', how='left')\n",
    "prior = prior.merge(orders, on='order_id', how='left').merge(\n",
    "    products, on='product_id', how='left')\n",
    "\n",
    "# compute training target\n",
    "target = train.groupby('user_id'\n",
    "    ).apply(lambda x: set(x[x['reordered'] == True]['product_id'])\n",
    "    ).reset_index(name='target')\n",
    "\n",
    "print \"done.\""
   ]
  },
  {
   "cell_type": "code",
   "execution_count": 47,
   "metadata": {},
   "outputs": [
    {
     "name": "stdout",
     "output_type": "stream",
     "text": [
      "Computing product features ...  done.\n"
     ]
    }
   ],
   "source": [
    "#\n",
    "# Before splitting off the validation set, compute \"product features\".\n",
    "# These are features that depend only on product_id; their values are the\n",
    "# same for training, validation and testing.\n",
    "#\n",
    "\n",
    "print \"Computing product features ... \",\n",
    "\n",
    "#   number of users who ever had this product in their basket\n",
    "x = prior.groupby('product_id').apply(\n",
    "    lambda x: len(set(x['user_id']))).reset_index(name='nusers')\n",
    "\n",
    "# number of users that reorderd the item\n",
    "y = train.groupby('product_id').apply(\n",
    "    lambda x: x['reordered'].sum()).reset_index(name='reordered')\n",
    "\n",
    "reorder_prob = x.merge(y, on='product_id', how='left').fillna(0)\n",
    "reorder_prob['reorder_prob'] = reorder_prob['reordered'] / reorder_prob['nusers']\n",
    "del x, y, reorder_prob['reordered'], reorder_prob['nusers']\n",
    "\n",
    "#\n",
    "# FIXME: try inter-purchase time?\n",
    "#\n",
    "\n",
    "print \"done.\""
   ]
  },
  {
   "cell_type": "code",
   "execution_count": 111,
   "metadata": {},
   "outputs": [
    {
     "name": "stdout",
     "output_type": "stream",
     "text": [
      "Computing user / user-product features ... \n"
     ]
    }
   ],
   "source": [
    "#\n",
    "# Generate features ...\n",
    "#\n",
    "\n",
    "print \"Computing user / user-product features ... \"\n",
    "\n",
    "prior_gb_up = prior.groupby(['user_id', 'product_id'])\n",
    "prior_gb_u = prior.groupby('user_id')\n",
    "# FIXME is there a way to reuse prior_gb_up here? "
   ]
  },
  {
   "cell_type": "code",
   "execution_count": 110,
   "metadata": {},
   "outputs": [
    {
     "name": "stdout",
     "output_type": "stream",
     "text": [
      " Computing user / user-product features ... \n",
      "\tnorders of product by user ...  done.\n"
     ]
    }
   ],
   "source": [
    "#   1: Number of times product has been ordered by user\n",
    "print \"\\tnorders of product by user ... \",\n",
    "user_prod_norders = prior_gb_up.apply(len).reset_index(name='user_prod_norders')\n",
    "print \"done.\""
   ]
  },
  {
   "cell_type": "code",
   "execution_count": 108,
   "metadata": {},
   "outputs": [
    {
     "name": "stdout",
     "output_type": "stream",
     "text": [
      "\tnorders by user ...  done.\n"
     ]
    }
   ],
   "source": [
    "#   2: Total number of orders by user\n",
    "print \"\\tnorders by user ... \",\n",
    "user_norders = prior_gb_u.apply(\n",
    "    lambda x: len(set(x['order_id']))).reset_index(name='user_norders')\n",
    "# FIXME you can also get this from orders table ... probably quicker\n",
    "print \"done.\""
   ]
  },
  {
   "cell_type": "code",
   "execution_count": 112,
   "metadata": {},
   "outputs": [
    {
     "name": "stdout",
     "output_type": "stream",
     "text": [
      "\tbaskets since last order of product ...  done.\n"
     ]
    }
   ],
   "source": [
    "#   3: Number of baskets since user last ordered this item\n",
    "print \"\\tbaskets since last order of product ... \",\n",
    "baskets_since = prior_gb_up.apply(\n",
    "    lambda x: max(x['order_number'])).reset_index(name='last_basket')\n",
    "\n",
    "baskets_since = baskets_since.merge(user_norders, on='user_id', how='left')\n",
    "baskets_since['baskets_since'] = baskets_since['user_norders'] - baskets_since['last_basket']\n",
    "del baskets_since['user_norders'], baskets_since['last_basket']\n",
    "print \"done.\""
   ]
  },
  {
   "cell_type": "code",
   "execution_count": 101,
   "metadata": {},
   "outputs": [
    {
     "name": "stdout",
     "output_type": "stream",
     "text": [
      "\tmean basket position ...  done.\n"
     ]
    }
   ],
   "source": [
    "#   4: Mean basket position. Lower basket position means customer likes product?\n",
    "print \"\\tmean basket position ... \",\n",
    "baskets_pos = prior_gb_up.apply(\n",
    "    lambda x: x['add_to_cart_order'].mean()).reset_index(name='basket_pos')\n",
    "print \"done.\""
   ]
  },
  {
   "cell_type": "code",
   "execution_count": 102,
   "metadata": {},
   "outputs": [
    {
     "name": "stdout",
     "output_type": "stream",
     "text": [
      "\torder features ...  done.\n"
     ]
    }
   ],
   "source": [
    "#   5/6/7: Time of day / dow / days since prior order\n",
    "print \"\\torder features ... \",\n",
    "order_features = orders[orders['eval_set'] != 'prior'][[\n",
    "    'user_id',\n",
    "    'order_hour_of_day',\n",
    "    'order_dow',\n",
    "    'days_since_prior_order']]\n",
    "\n",
    "assert len(order_features) == len(orders['user_id'].unique())\n",
    "del prior_gb_up\n",
    "print \"done.\""
   ]
  },
  {
   "cell_type": "code",
   "execution_count": 103,
   "metadata": {},
   "outputs": [
    {
     "name": "stdout",
     "output_type": "stream",
     "text": [
      "\tuser reorder rate ...  done.\n"
     ]
    }
   ],
   "source": [
    "#    8: Does user reorder in general?\n",
    "print \"\\tuser reorder rate ... \",\n",
    "user_reorder_rate = prior_gb_u.apply(\n",
    "    lambda x: x['reordered'].sum() / 1.0 / len(set(x['order_id']))\n",
    "    ).reset_index(name='user_reorder_rate')\n",
    "\n",
    "#   4: Number of times product has been ordered / number of users that\n",
    "#      that have ordered the product\n",
    "#print \"\\thow often the product appears in the same user's basket ...\",\n",
    "#reorder_rate = prior.groupby('product_id').apply(\n",
    "#    lambda x: float(len(x)) / float(len(set(x['user_id'])))\n",
    "#    ).reset_index(name='reorder_rate')\n",
    "\n",
    "print \"done.\""
   ]
  },
  {
   "cell_type": "code",
   "execution_count": 115,
   "metadata": {},
   "outputs": [
    {
     "data": {
      "text/html": [
       "<div>\n",
       "<table border=\"1\" class=\"dataframe\">\n",
       "  <thead>\n",
       "    <tr style=\"text-align: right;\">\n",
       "      <th></th>\n",
       "      <th>user_id</th>\n",
       "      <th>product_id</th>\n",
       "      <th>user_prod_norders</th>\n",
       "      <th>user_norders</th>\n",
       "      <th>baskets_since</th>\n",
       "      <th>reorder_prob</th>\n",
       "      <th>order_hour_of_day</th>\n",
       "      <th>order_dow</th>\n",
       "      <th>days_since_prior_order</th>\n",
       "      <th>user_reorder_rate</th>\n",
       "      <th>reordered</th>\n",
       "    </tr>\n",
       "  </thead>\n",
       "  <tbody>\n",
       "    <tr>\n",
       "      <th>0</th>\n",
       "      <td>1</td>\n",
       "      <td>196</td>\n",
       "      <td>10</td>\n",
       "      <td>10</td>\n",
       "      <td>0</td>\n",
       "      <td>0.152625</td>\n",
       "      <td>8</td>\n",
       "      <td>4</td>\n",
       "      <td>14.0</td>\n",
       "      <td>4.1</td>\n",
       "      <td>1.0</td>\n",
       "    </tr>\n",
       "    <tr>\n",
       "      <th>1</th>\n",
       "      <td>1</td>\n",
       "      <td>10258</td>\n",
       "      <td>9</td>\n",
       "      <td>10</td>\n",
       "      <td>0</td>\n",
       "      <td>0.140036</td>\n",
       "      <td>8</td>\n",
       "      <td>4</td>\n",
       "      <td>14.0</td>\n",
       "      <td>4.1</td>\n",
       "      <td>1.0</td>\n",
       "    </tr>\n",
       "    <tr>\n",
       "      <th>2</th>\n",
       "      <td>1</td>\n",
       "      <td>10326</td>\n",
       "      <td>1</td>\n",
       "      <td>10</td>\n",
       "      <td>5</td>\n",
       "      <td>0.147166</td>\n",
       "      <td>8</td>\n",
       "      <td>4</td>\n",
       "      <td>14.0</td>\n",
       "      <td>4.1</td>\n",
       "      <td>0.0</td>\n",
       "    </tr>\n",
       "    <tr>\n",
       "      <th>3</th>\n",
       "      <td>1</td>\n",
       "      <td>12427</td>\n",
       "      <td>10</td>\n",
       "      <td>10</td>\n",
       "      <td>0</td>\n",
       "      <td>0.095295</td>\n",
       "      <td>8</td>\n",
       "      <td>4</td>\n",
       "      <td>14.0</td>\n",
       "      <td>4.1</td>\n",
       "      <td>0.0</td>\n",
       "    </tr>\n",
       "    <tr>\n",
       "      <th>4</th>\n",
       "      <td>1</td>\n",
       "      <td>13032</td>\n",
       "      <td>3</td>\n",
       "      <td>10</td>\n",
       "      <td>0</td>\n",
       "      <td>0.090202</td>\n",
       "      <td>8</td>\n",
       "      <td>4</td>\n",
       "      <td>14.0</td>\n",
       "      <td>4.1</td>\n",
       "      <td>1.0</td>\n",
       "    </tr>\n",
       "    <tr>\n",
       "      <th>5</th>\n",
       "      <td>1</td>\n",
       "      <td>13176</td>\n",
       "      <td>2</td>\n",
       "      <td>10</td>\n",
       "      <td>5</td>\n",
       "      <td>0.210303</td>\n",
       "      <td>8</td>\n",
       "      <td>4</td>\n",
       "      <td>14.0</td>\n",
       "      <td>4.1</td>\n",
       "      <td>0.0</td>\n",
       "    </tr>\n",
       "    <tr>\n",
       "      <th>6</th>\n",
       "      <td>1</td>\n",
       "      <td>14084</td>\n",
       "      <td>1</td>\n",
       "      <td>10</td>\n",
       "      <td>9</td>\n",
       "      <td>0.148406</td>\n",
       "      <td>8</td>\n",
       "      <td>4</td>\n",
       "      <td>14.0</td>\n",
       "      <td>4.1</td>\n",
       "      <td>0.0</td>\n",
       "    </tr>\n",
       "    <tr>\n",
       "      <th>7</th>\n",
       "      <td>1</td>\n",
       "      <td>17122</td>\n",
       "      <td>1</td>\n",
       "      <td>10</td>\n",
       "      <td>5</td>\n",
       "      <td>0.104819</td>\n",
       "      <td>8</td>\n",
       "      <td>4</td>\n",
       "      <td>14.0</td>\n",
       "      <td>4.1</td>\n",
       "      <td>0.0</td>\n",
       "    </tr>\n",
       "    <tr>\n",
       "      <th>8</th>\n",
       "      <td>1</td>\n",
       "      <td>25133</td>\n",
       "      <td>8</td>\n",
       "      <td>10</td>\n",
       "      <td>0</td>\n",
       "      <td>0.086335</td>\n",
       "      <td>8</td>\n",
       "      <td>4</td>\n",
       "      <td>14.0</td>\n",
       "      <td>4.1</td>\n",
       "      <td>1.0</td>\n",
       "    </tr>\n",
       "    <tr>\n",
       "      <th>9</th>\n",
       "      <td>1</td>\n",
       "      <td>26088</td>\n",
       "      <td>2</td>\n",
       "      <td>10</td>\n",
       "      <td>8</td>\n",
       "      <td>0.066208</td>\n",
       "      <td>8</td>\n",
       "      <td>4</td>\n",
       "      <td>14.0</td>\n",
       "      <td>4.1</td>\n",
       "      <td>1.0</td>\n",
       "    </tr>\n",
       "    <tr>\n",
       "      <th>10</th>\n",
       "      <td>1</td>\n",
       "      <td>26405</td>\n",
       "      <td>2</td>\n",
       "      <td>10</td>\n",
       "      <td>6</td>\n",
       "      <td>0.091445</td>\n",
       "      <td>8</td>\n",
       "      <td>4</td>\n",
       "      <td>14.0</td>\n",
       "      <td>4.1</td>\n",
       "      <td>1.0</td>\n",
       "    </tr>\n",
       "    <tr>\n",
       "      <th>11</th>\n",
       "      <td>1</td>\n",
       "      <td>30450</td>\n",
       "      <td>1</td>\n",
       "      <td>10</td>\n",
       "      <td>7</td>\n",
       "      <td>0.052191</td>\n",
       "      <td>8</td>\n",
       "      <td>4</td>\n",
       "      <td>14.0</td>\n",
       "      <td>4.1</td>\n",
       "      <td>0.0</td>\n",
       "    </tr>\n",
       "    <tr>\n",
       "      <th>12</th>\n",
       "      <td>1</td>\n",
       "      <td>35951</td>\n",
       "      <td>1</td>\n",
       "      <td>10</td>\n",
       "      <td>0</td>\n",
       "      <td>0.120043</td>\n",
       "      <td>8</td>\n",
       "      <td>4</td>\n",
       "      <td>14.0</td>\n",
       "      <td>4.1</td>\n",
       "      <td>0.0</td>\n",
       "    </tr>\n",
       "    <tr>\n",
       "      <th>13</th>\n",
       "      <td>1</td>\n",
       "      <td>38928</td>\n",
       "      <td>1</td>\n",
       "      <td>10</td>\n",
       "      <td>0</td>\n",
       "      <td>0.144298</td>\n",
       "      <td>8</td>\n",
       "      <td>4</td>\n",
       "      <td>14.0</td>\n",
       "      <td>4.1</td>\n",
       "      <td>1.0</td>\n",
       "    </tr>\n",
       "    <tr>\n",
       "      <th>14</th>\n",
       "      <td>1</td>\n",
       "      <td>39657</td>\n",
       "      <td>1</td>\n",
       "      <td>10</td>\n",
       "      <td>0</td>\n",
       "      <td>0.177323</td>\n",
       "      <td>8</td>\n",
       "      <td>4</td>\n",
       "      <td>14.0</td>\n",
       "      <td>4.1</td>\n",
       "      <td>1.0</td>\n",
       "    </tr>\n",
       "  </tbody>\n",
       "</table>\n",
       "</div>"
      ],
      "text/plain": [
       "    user_id  product_id  user_prod_norders  user_norders  baskets_since  \\\n",
       "0         1         196                 10            10              0   \n",
       "1         1       10258                  9            10              0   \n",
       "2         1       10326                  1            10              5   \n",
       "3         1       12427                 10            10              0   \n",
       "4         1       13032                  3            10              0   \n",
       "5         1       13176                  2            10              5   \n",
       "6         1       14084                  1            10              9   \n",
       "7         1       17122                  1            10              5   \n",
       "8         1       25133                  8            10              0   \n",
       "9         1       26088                  2            10              8   \n",
       "10        1       26405                  2            10              6   \n",
       "11        1       30450                  1            10              7   \n",
       "12        1       35951                  1            10              0   \n",
       "13        1       38928                  1            10              0   \n",
       "14        1       39657                  1            10              0   \n",
       "\n",
       "    reorder_prob  order_hour_of_day  order_dow  days_since_prior_order  \\\n",
       "0       0.152625                  8          4                    14.0   \n",
       "1       0.140036                  8          4                    14.0   \n",
       "2       0.147166                  8          4                    14.0   \n",
       "3       0.095295                  8          4                    14.0   \n",
       "4       0.090202                  8          4                    14.0   \n",
       "5       0.210303                  8          4                    14.0   \n",
       "6       0.148406                  8          4                    14.0   \n",
       "7       0.104819                  8          4                    14.0   \n",
       "8       0.086335                  8          4                    14.0   \n",
       "9       0.066208                  8          4                    14.0   \n",
       "10      0.091445                  8          4                    14.0   \n",
       "11      0.052191                  8          4                    14.0   \n",
       "12      0.120043                  8          4                    14.0   \n",
       "13      0.144298                  8          4                    14.0   \n",
       "14      0.177323                  8          4                    14.0   \n",
       "\n",
       "    user_reorder_rate  reordered  \n",
       "0                 4.1        1.0  \n",
       "1                 4.1        1.0  \n",
       "2                 4.1        0.0  \n",
       "3                 4.1        0.0  \n",
       "4                 4.1        1.0  \n",
       "5                 4.1        0.0  \n",
       "6                 4.1        0.0  \n",
       "7                 4.1        0.0  \n",
       "8                 4.1        1.0  \n",
       "9                 4.1        1.0  \n",
       "10                4.1        1.0  \n",
       "11                4.1        0.0  \n",
       "12                4.1        0.0  \n",
       "13                4.1        1.0  \n",
       "14                4.1        1.0  "
      ]
     },
     "execution_count": 115,
     "metadata": {},
     "output_type": "execute_result"
    }
   ],
   "source": [
    "#\n",
    "# Assemble all features together in one table\n",
    "#\n",
    "features = user_prod_norders.merge(\n",
    "    user_norders, on='user_id', how='left'\n",
    "    ).merge(baskets_since, on=['user_id', 'product_id'], how='left'\n",
    "    ).merge(reorder_prob, on='product_id', how='left'\n",
    "    ).merge(order_features, on='user_id', how='left'\n",
    "    ).merge(user_reorder_rate, on='user_id', how='left')\n",
    "# need to keep \"product features\" for submission stage\n",
    "\n",
    "# Add training data, i.e., whether product was reordered by user\n",
    "features = features.merge(\n",
    "    train[['user_id','product_id','reordered']],\n",
    "    on=['user_id','product_id'], how='left').fillna(0)\n",
    "\n",
    "features.head(15)"
   ]
  },
  {
   "cell_type": "code",
   "execution_count": 117,
   "metadata": {},
   "outputs": [
    {
     "name": "stdout",
     "output_type": "stream",
     "text": [
      "50000 81209 75000 206209\n"
     ]
    }
   ],
   "source": [
    "#\n",
    "# Establish separate training and validation data\n",
    "#\n",
    "\n",
    "Nval = 50000 # seems like a good number\n",
    "uids = train['user_id'].unique()\n",
    "uids_train = uids[:-Nval]\n",
    "uids_val = uids[-Nval:]\n",
    "\n",
    "#\n",
    "# training\n",
    "#\n",
    "where = features['user_id'].isin(uids_train)\n",
    "X_train = features[where][[\n",
    "    'user_prod_norders',\n",
    "    'user_norders',\n",
    "    'baskets_since',\n",
    "    'reorder_prob',\n",
    "    'order_dow',\n",
    "    'order_hour_of_day',\n",
    "    'days_since_prior_order',\n",
    "    'user_reorder_rate']].as_matrix()\n",
    "# FIXME: features should contain exactly the columns you need\n",
    "y_train = features[where]['reordered'].as_matrix()\n",
    "\n",
    "#\n",
    "# validation\n",
    "#\n",
    "where = features['user_id'].isin(uids_val)\n",
    "X_val = features[where][[\n",
    "    'user_prod_norders',\n",
    "    'user_norders',\n",
    "    'baskets_since',\n",
    "    'reorder_prob',\n",
    "    'order_dow',\n",
    "    'order_hour_of_day',\n",
    "    'days_since_prior_order',\n",
    "    'user_reorder_rate']].as_matrix()\n",
    "y_val = features[where]['reordered'].as_matrix()\n",
    "\n",
    "#\n",
    "# test / submission\n",
    "#\n",
    "uids_test = orders[orders['eval_set'] == 'test']['user_id'].unique()\n",
    "where = features['user_id'].isin(uids_test)\n",
    "X_test = features[where][[\n",
    "    'user_prod_norders',\n",
    "    'user_norders',\n",
    "    'baskets_since',\n",
    "    'reorder_prob',\n",
    "    'order_dow',\n",
    "    'order_hour_of_day',\n",
    "    'days_since_prior_order',\n",
    "    'user_reorder_rate']].as_matrix()\n",
    "\n",
    "print len(uids_val), len(uids_train), len(uids_test), len(orders['user_id'].unique())"
   ]
  },
  {
   "cell_type": "code",
   "execution_count": 127,
   "metadata": {},
   "outputs": [],
   "source": [
    "#\n",
    "# Train the decision tree model(s)\n",
    "#\n",
    "\n",
    "trees = []\n",
    "for mss in [5, 50, 500, 5000]:\n",
    "    clf = RandomForestClassifier(n_estimators=100, random_state=0, min_samples_split=mss, max_depth=md)\n",
    "    clf.fit(X_train, y_train)\n",
    "    trees.append(clf)\n",
    "    #export_graphviz(clf, out_file='tree.dot')\n",
    "    #print clf.feature_importances_"
   ]
  },
  {
   "cell_type": "code",
   "execution_count": 128,
   "metadata": {},
   "outputs": [
    {
     "name": "stdout",
     "output_type": "stream",
     "text": [
      "Performance on training set ... \n"
     ]
    },
    {
     "name": "stderr",
     "output_type": "stream",
     "text": [
      "/opt/local/Library/Frameworks/Python.framework/Versions/2.7/lib/python2.7/site-packages/ipykernel_launcher.py:10: SettingWithCopyWarning: \n",
      "A value is trying to be set on a copy of a slice from a DataFrame.\n",
      "Try using .loc[row_indexer,col_indexer] = value instead\n",
      "\n",
      "See the caveats in the documentation: http://pandas.pydata.org/pandas-docs/stable/indexing.html#indexing-view-versus-copy\n",
      "  # Remove the CWD from sys.path while we load stuff.\n"
     ]
    },
    {
     "name": "stdout",
     "output_type": "stream",
     "text": [
      "0.195 0.386698245983\n",
      "0.195 0.38614322631\n",
      "0.195 0.3842598784\n",
      "0.195 0.380578694124\n",
      "Performance on validation set ... \n"
     ]
    },
    {
     "name": "stderr",
     "output_type": "stream",
     "text": [
      "/opt/local/Library/Frameworks/Python.framework/Versions/2.7/lib/python2.7/site-packages/ipykernel_launcher.py:29: SettingWithCopyWarning: \n",
      "A value is trying to be set on a copy of a slice from a DataFrame.\n",
      "Try using .loc[row_indexer,col_indexer] = value instead\n",
      "\n",
      "See the caveats in the documentation: http://pandas.pydata.org/pandas-docs/stable/indexing.html#indexing-view-versus-copy\n"
     ]
    },
    {
     "name": "stdout",
     "output_type": "stream",
     "text": [
      "0.195 0.380932125186\n",
      "0.195 0.381393967778\n",
      "0.195 0.380982490375\n",
      "0.195 0.380449195775\n"
     ]
    }
   ],
   "source": [
    "#\n",
    "# Let's see how we covered the training set\n",
    "#\n",
    "print \"Performance on training set ... \"\n",
    "this_target = target[target['user_id'].isin(uids_train)]\n",
    "this_features = features[features['user_id'].isin(uids_train)]\n",
    "for clf in trees:\n",
    "    pred = clf.predict_proba(X_train)[:, 1]\n",
    "    for p in [0.195]: # time and time again, this value wins\n",
    "        this_features['prediction'] = pred > p\n",
    "        out = this_features.groupby('user_id').apply(\n",
    "            lambda x: set(x[x['prediction'] == True]['product_id'])\n",
    "            ).reset_index(name='prediction')\n",
    "\n",
    "        out = out.merge(this_target, on='user_id', how='left')\n",
    "        print p, f1score(out['prediction'], out['target'])\n",
    "        del this_features['prediction']\n",
    "    \n",
    "#\n",
    "# Now, how do we perform out of sample?\n",
    "#\n",
    "print \"Performance on validation set ... \"\n",
    "this_target = target[target['user_id'].isin(uids_val)]\n",
    "this_features = features[features['user_id'].isin(uids_val)]\n",
    "for clf in trees:\n",
    "    pred = clf.predict_proba(X_val)[:, 1]\n",
    "    for p in [0.195]:\n",
    "        \n",
    "        this_features['prediction'] = pred > p\n",
    "        out = this_features.groupby('user_id').apply(\n",
    "            lambda x: set(x[x['prediction'] == True]['product_id'])\n",
    "            ).reset_index(name='prediction')\n",
    "\n",
    "        out = out.merge(this_target, on='user_id', how='left')\n",
    "        print p, f1score(out['prediction'], out['target'])\n",
    "        del this_features['prediction']"
   ]
  },
  {
   "cell_type": "code",
   "execution_count": 129,
   "metadata": {},
   "outputs": [
    {
     "name": "stderr",
     "output_type": "stream",
     "text": [
      "/opt/local/Library/Frameworks/Python.framework/Versions/2.7/lib/python2.7/site-packages/ipykernel_launcher.py:12: SettingWithCopyWarning: \n",
      "A value is trying to be set on a copy of a slice from a DataFrame.\n",
      "Try using .loc[row_indexer,col_indexer] = value instead\n",
      "\n",
      "See the caveats in the documentation: http://pandas.pydata.org/pandas-docs/stable/indexing.html#indexing-view-versus-copy\n",
      "  if sys.path[0] == '':\n"
     ]
    },
    {
     "data": {
      "text/html": [
       "<div>\n",
       "<table border=\"1\" class=\"dataframe\">\n",
       "  <thead>\n",
       "    <tr style=\"text-align: right;\">\n",
       "      <th></th>\n",
       "      <th>order_id</th>\n",
       "      <th>prediction</th>\n",
       "    </tr>\n",
       "  </thead>\n",
       "  <tbody>\n",
       "    <tr>\n",
       "      <th>0</th>\n",
       "      <td>17</td>\n",
       "      <td>{13107, 21463}</td>\n",
       "    </tr>\n",
       "    <tr>\n",
       "      <th>1</th>\n",
       "      <td>34</td>\n",
       "      <td>{47792, 2596, 44632, 39180, 43504, 21137, 1608...</td>\n",
       "    </tr>\n",
       "    <tr>\n",
       "      <th>2</th>\n",
       "      <td>137</td>\n",
       "      <td>{38689, 25890, 5134, 23794, 24852, 2326, 29594...</td>\n",
       "    </tr>\n",
       "    <tr>\n",
       "      <th>3</th>\n",
       "      <td>182</td>\n",
       "      <td>{11520, 5479, 33000, 10025, 39275, 41149, 4720...</td>\n",
       "    </tr>\n",
       "    <tr>\n",
       "      <th>4</th>\n",
       "      <td>257</td>\n",
       "      <td>{27104, 49235, 24838, 29837, 13870, 21137, 394...</td>\n",
       "    </tr>\n",
       "  </tbody>\n",
       "</table>\n",
       "</div>"
      ],
      "text/plain": [
       "   order_id                                         prediction\n",
       "0        17                                     {13107, 21463}\n",
       "1        34  {47792, 2596, 44632, 39180, 43504, 21137, 1608...\n",
       "2       137  {38689, 25890, 5134, 23794, 24852, 2326, 29594...\n",
       "3       182  {11520, 5479, 33000, 10025, 39275, 41149, 4720...\n",
       "4       257  {27104, 49235, 24838, 29837, 13870, 21137, 394..."
      ]
     },
     "execution_count": 129,
     "metadata": {},
     "output_type": "execute_result"
    }
   ],
   "source": [
    "#\n",
    "# Let's make a submission!!\n",
    "#\n",
    "clf = trees[1]\n",
    "\n",
    "#\n",
    "# generate predictions for test set from model\n",
    "#\n",
    "oid_uid_test = orders[orders['eval_set'] == 'test'][['order_id', 'user_id']]\n",
    "pred = clf.predict_proba(X_test)[:, 1] > 0.195\n",
    "this_features = features[features['user_id'].isin(uids_test)]\n",
    "this_features['prediction'] = pred\n",
    "this_features = this_features.merge(oid_uid_test, on='user_id', how='left')\n",
    "out = this_features.groupby('order_id').apply(\n",
    "    lambda x: set(x[x['prediction'] == True]['product_id'])\n",
    "    ).reset_index(name='prediction')\n",
    "\n",
    "out.head()"
   ]
  },
  {
   "cell_type": "code",
   "execution_count": 130,
   "metadata": {},
   "outputs": [],
   "source": [
    "#\n",
    "# Write predictions to disk for submission.\n",
    "#\n",
    "\n",
    "fd = open('submission.csv', 'w')\n",
    "fd.write('order_id,products\\n')\n",
    "\n",
    "for oid, pr in zip(out['order_id'], out['prediction']):\n",
    "    fd.write('%d,' % oid)\n",
    "\n",
    "    if pr:\n",
    "        fd.write(' '.join(map(str, pr)))\n",
    "    else:\n",
    "        fd.write('None')\n",
    "    fd.write('\\n')\n",
    "\n",
    "fd.close()"
   ]
  },
  {
   "cell_type": "code",
   "execution_count": null,
   "metadata": {},
   "outputs": [],
   "source": [
    "#\n",
    "# How much do predictions change if we retrain the winning tree on the whole\n",
    "# training set??\n",
    "#\n",
    "clf = RandomForestClassifier(n_estimators=100, random_state=0, min_samples_split=500, max_depth=md)\n",
    "X_all = np.vstack((X_train, X_val))\n",
    "y_all = np.concatenate((y_train, y_val))\n",
    "clf.fit(X_all, y_all)"
   ]
  },
  {
   "cell_type": "code",
   "execution_count": 94,
   "metadata": {},
   "outputs": [
    {
     "name": "stderr",
     "output_type": "stream",
     "text": [
      "/opt/local/Library/Frameworks/Python.framework/Versions/2.7/lib/python2.7/site-packages/ipykernel_launcher.py:3: SettingWithCopyWarning: \n",
      "A value is trying to be set on a copy of a slice from a DataFrame.\n",
      "Try using .loc[row_indexer,col_indexer] = value instead\n",
      "\n",
      "See the caveats in the documentation: http://pandas.pydata.org/pandas-docs/stable/indexing.html#indexing-view-versus-copy\n",
      "  This is separate from the ipykernel package so we can avoid doing imports until\n"
     ]
    },
    {
     "ename": "TypeError",
     "evalue": "reset_index() got an unexpected keyword argument 'name'",
     "output_type": "error",
     "traceback": [
      "\u001b[0;31m---------------------------------------------------------------------------\u001b[0m",
      "\u001b[0;31mTypeError\u001b[0m                                 Traceback (most recent call last)",
      "\u001b[0;32m<ipython-input-94-d5e3be97ecf1>\u001b[0m in \u001b[0;36m<module>\u001b[0;34m()\u001b[0m\n\u001b[1;32m      4\u001b[0m out = this_features.groupby('user_id').apply(\n\u001b[1;32m      5\u001b[0m     \u001b[0;32mlambda\u001b[0m \u001b[0mx\u001b[0m\u001b[0;34m:\u001b[0m \u001b[0mset\u001b[0m\u001b[0;34m(\u001b[0m\u001b[0mx\u001b[0m\u001b[0;34m[\u001b[0m\u001b[0mx\u001b[0m\u001b[0;34m[\u001b[0m\u001b[0;34m'prediction'\u001b[0m\u001b[0;34m]\u001b[0m \u001b[0;34m==\u001b[0m \u001b[0mTrue\u001b[0m\u001b[0;34m]\u001b[0m\u001b[0;34m[\u001b[0m\u001b[0;34m'product_id'\u001b[0m\u001b[0;34m]\u001b[0m\u001b[0;34m)\u001b[0m\u001b[0;34m\u001b[0m\u001b[0m\n\u001b[0;32m----> 6\u001b[0;31m     ).reset_index(name='prediction')\n\u001b[0m\u001b[1;32m      7\u001b[0m \u001b[0;34m\u001b[0m\u001b[0m\n\u001b[1;32m      8\u001b[0m \u001b[0mout\u001b[0m \u001b[0;34m=\u001b[0m \u001b[0mout\u001b[0m\u001b[0;34m.\u001b[0m\u001b[0mmerge\u001b[0m\u001b[0;34m(\u001b[0m\u001b[0mthis_target\u001b[0m\u001b[0;34m,\u001b[0m \u001b[0mon\u001b[0m\u001b[0;34m=\u001b[0m\u001b[0;34m'user_id'\u001b[0m\u001b[0;34m,\u001b[0m \u001b[0mhow\u001b[0m\u001b[0;34m=\u001b[0m\u001b[0;34m'left'\u001b[0m\u001b[0;34m)\u001b[0m\u001b[0;34m\u001b[0m\u001b[0m\n",
      "\u001b[0;31mTypeError\u001b[0m: reset_index() got an unexpected keyword argument 'name'"
     ]
    }
   ],
   "source": [
    "pred = clf.predict_proba(X_all)[:, 1]\n",
    "this_features = features[features['user_id'].isin(uids_train) & features['user_id'].isin(uids_val)]\n",
    "this_features['prediction'] = pred > 0.195\n",
    "out = this_features.groupby('user_id').apply(\n",
    "    lambda x: set(x[x['prediction'] == True]['product_id'])\n",
    "    ).reset_index(name='prediction')\n",
    "\n",
    "out = out.merge(this_target, on='user_id', how='left')\n",
    "print f1score(out['prediction'], out['target'])\n",
    "del this_features['prediction']"
   ]
  },
  {
   "cell_type": "code",
   "execution_count": null,
   "metadata": {
    "collapsed": true
   },
   "outputs": [],
   "source": []
  }
 ],
 "metadata": {
  "kernelspec": {
   "display_name": "Python 2",
   "language": "python",
   "name": "python2"
  },
  "language_info": {
   "codemirror_mode": {
    "name": "ipython",
    "version": 2
   },
   "file_extension": ".py",
   "mimetype": "text/x-python",
   "name": "python",
   "nbconvert_exporter": "python",
   "pygments_lexer": "ipython2",
   "version": "2.7.13"
  }
 },
 "nbformat": 4,
 "nbformat_minor": 2
}
