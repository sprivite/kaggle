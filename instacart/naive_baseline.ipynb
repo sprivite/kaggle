{
 "cells": [
  {
   "cell_type": "code",
   "execution_count": null,
   "metadata": {
    "collapsed": true
   },
   "outputs": [],
   "source": [
    "import pandas as pd\n",
    "import numpy as np\n",
    "from scipy import stats\n",
    "from collections import Counter\n",
    "from evaluate import f1score"
   ]
  },
  {
   "cell_type": "code",
   "execution_count": null,
   "metadata": {
    "collapsed": true
   },
   "outputs": [],
   "source": [
    "#\n",
    "#\n",
    "# This script takes a stab at establishing a baseline prediction. We will make the\n",
    "# most naive model we can think of, and then systematically tear apart its underlying\n",
    "# assumptions until we have a model that actually works ;).\n",
    "#\n",
    "# The idea is simple: given a customer, predict that his/her next basket will contain\n",
    "# all products which ... \n",
    "#  (i) appear in > 80% of his/her previous baskets, or\n",
    "#  (ii) appear more than once in his/her previous baskets, or\n",
    "#  (iii) appear at all in any previous baskets\n",
    "#\n",
    "# We will test these three ideas on the training set, and submit the one which gives \n",
    "# the best F1 score.\n",
    "#\n",
    "#"
   ]
  },
  {
   "cell_type": "code",
   "execution_count": 9,
   "metadata": {},
   "outputs": [
    {
     "name": "stdout",
     "output_type": "stream",
     "text": [
      " Reading prior orders data from train set ...  done.\n"
     ]
    }
   ],
   "source": [
    "#\n",
    "# Load prior data from the \"train\" set\n",
    "#\n",
    "\n",
    "print \"Reading prior orders data from train set ... \",\n",
    "order_prior = pd.read_csv('../order_products__prior.csv')\n",
    "orders = pd.read_csv('../orders.csv')\n",
    "print \"done.\"\n",
    "\n",
    "# down-select to only those appearing in the training set to save memory\n",
    "eval_set = 'train'\n",
    "\n",
    "# get the order_id / user_id pairs for the given evaluation set\n",
    "oid_uid_test = orders[orders['eval_set'] == eval_set][['order_id', 'user_id']]\n",
    "\n",
    "# add user_id information to order_prior\n",
    "test = order_prior.merge(orders, on='order_id', how='left')\n",
    "\n",
    "# down-select\n",
    "test = test[test['user_id'].isin(oid_uid_test['user_id'])]\n",
    "\n",
    "# free memory\n",
    "del order_prior"
   ]
  },
  {
   "cell_type": "code",
   "execution_count": 18,
   "metadata": {},
   "outputs": [
    {
     "data": {
      "text/html": [
       "<div>\n",
       "<table border=\"1\" class=\"dataframe\">\n",
       "  <thead>\n",
       "    <tr style=\"text-align: right;\">\n",
       "      <th></th>\n",
       "      <th>user_id</th>\n",
       "      <th>products_reordered</th>\n",
       "    </tr>\n",
       "  </thead>\n",
       "  <tbody>\n",
       "    <tr>\n",
       "      <th>0</th>\n",
       "      <td>1</td>\n",
       "      <td>{196, 26405, 13032, 39657, 25133, 38928, 26088...</td>\n",
       "    </tr>\n",
       "    <tr>\n",
       "      <th>1</th>\n",
       "      <td>2</td>\n",
       "      <td>{41787, 33957, 22825, 45066, 16589, 45613, 229...</td>\n",
       "    </tr>\n",
       "    <tr>\n",
       "      <th>2</th>\n",
       "      <td>5</td>\n",
       "      <td>{21616, 40706, 15349, 21413}</td>\n",
       "    </tr>\n",
       "    <tr>\n",
       "      <th>3</th>\n",
       "      <td>7</td>\n",
       "      <td>{29894, 17638, 47272, 45066, 13198, 37999, 408...</td>\n",
       "    </tr>\n",
       "    <tr>\n",
       "      <th>4</th>\n",
       "      <td>8</td>\n",
       "      <td>{15937, 41540, 23165, 21903}</td>\n",
       "    </tr>\n",
       "  </tbody>\n",
       "</table>\n",
       "</div>"
      ],
      "text/plain": [
       "   user_id                                 products_reordered\n",
       "0        1  {196, 26405, 13032, 39657, 25133, 38928, 26088...\n",
       "1        2  {41787, 33957, 22825, 45066, 16589, 45613, 229...\n",
       "2        5                       {21616, 40706, 15349, 21413}\n",
       "3        7  {29894, 17638, 47272, 45066, 13198, 37999, 408...\n",
       "4        8                       {15937, 41540, 23165, 21903}"
      ]
     },
     "execution_count": 18,
     "metadata": {},
     "output_type": "execute_result"
    }
   ],
   "source": [
    "#\n",
    "# Load the training data for evaluating the predictive models\n",
    "#\n",
    "\n",
    "# Load the training data mapping order_id to the products ordered\n",
    "def products_reordered(x):\n",
    "    # The \"correct\" answer: the set of all products that were previously ordered\n",
    "    # and appear in the customer's next basket.\n",
    "    # NB: there should only be one order per user in the training set and set() vs\n",
    "    # list() shouldn't matter. This is a worth a sanity check CHECKME.\n",
    "    return set(x[x['reordered'] == 1]['product_id'])\n",
    "\n",
    "train = pd.read_csv('../order_products__train.csv').merge(orders, on='order_id', how='left')\n",
    "train = train.groupby('user_id').apply(products_reordered)\n",
    "train = train.reset_index(name='products_reordered')\n",
    "train.head()"
   ]
  },
  {
   "cell_type": "code",
   "execution_count": 23,
   "metadata": {},
   "outputs": [
    {
     "name": "stdout",
     "output_type": "stream",
     "text": [
      " p model 0.5 ... F1: 0.265367442142\n",
      "p model 0.8 ... F1: 0.14699473447\n",
      "n model 0 ... F1: 0.215400579483\n",
      "n model 1 ... F1: 0.302637573062\n",
      "n model 2 ... F1: 0.307927178382\n",
      "n model 3 ... F1: 0.276981840147\n"
     ]
    }
   ],
   "source": [
    "# some heuristic models for making predictions of future reorders\n",
    "# no ML yet!! just establishing a baseline\n",
    "def products_p(x, prob):\n",
    "    C = Counter(x['product_id'])\n",
    "    norders = len(set(x['order_id']))\n",
    "    return set([p for p in C if C[p] / float(norders) > prob])\n",
    "\n",
    "def products_n(x, n):\n",
    "    C = Counter(x['product_id'])\n",
    "    norders = len(set(x['order_id']))\n",
    "    return set([p for p in C if C[p] > n])\n",
    "\n",
    "for p in [0.5, 0.8]:\n",
    "    print \"p model\", p, \"...\",\n",
    "    heuristic = lambda x: products_p(x, p)\n",
    "    predict = test.groupby(['user_id']).apply(heuristic)\n",
    "    predict = predict.reset_index(name='products_predicted')\n",
    "    print \"F1:\", f1score(predict['products_predicted'], train['products_reordered'])\n",
    "    \n",
    "for n in [0, 1, 2, 3]:\n",
    "    print \"n model\", n, \"...\",\n",
    "    heuristic = lambda x: products_n(x, n)\n",
    "    predict = test.groupby(['user_id']).apply(heuristic)\n",
    "    predict = predict.reset_index(name='products_predicted')\n",
    "    print \"F1:\", f1score(predict['products_predicted'], train['products_reordered'])"
   ]
  },
  {
   "cell_type": "code",
   "execution_count": 25,
   "metadata": {},
   "outputs": [
    {
     "name": "stdout",
     "output_type": "stream",
     "text": [
      " Reading prior orders data from test set ...  done.\n"
     ]
    }
   ],
   "source": [
    "#\n",
    "# Load prior data from the \"test\" set\n",
    "#\n",
    "\n",
    "print \"Reading prior orders data from test set ... \",\n",
    "order_prior = pd.read_csv('../order_products__prior.csv')\n",
    "print \"done.\"\n",
    "\n",
    "# down-select to only those appearing in the training set to save memory\n",
    "eval_set = 'test'\n",
    "\n",
    "# get the order_id / user_id pairs for the given evaluation set\n",
    "oid_uid_test = orders[orders['eval_set'] == eval_set][['order_id', 'user_id']]\n",
    "\n",
    "# add user_id information to order_prior\n",
    "test = order_prior.merge(orders, on='order_id', how='left')\n",
    "\n",
    "# down-select\n",
    "test = test[test['user_id'].isin(oid_uid_test['user_id'])]\n",
    "\n",
    "# free memory\n",
    "del order_prior"
   ]
  },
  {
   "cell_type": "code",
   "execution_count": 30,
   "metadata": {},
   "outputs": [
    {
     "data": {
      "text/html": [
       "<div>\n",
       "<table border=\"1\" class=\"dataframe\">\n",
       "  <thead>\n",
       "    <tr style=\"text-align: right;\">\n",
       "      <th></th>\n",
       "      <th>user_id</th>\n",
       "      <th>products_predicted</th>\n",
       "      <th>order_id</th>\n",
       "    </tr>\n",
       "  </thead>\n",
       "  <tbody>\n",
       "    <tr>\n",
       "      <th>0</th>\n",
       "      <td>3</td>\n",
       "      <td>{17668, 39190, 18599, 24810, 9387, 21903, 3240...</td>\n",
       "      <td>2774568</td>\n",
       "    </tr>\n",
       "    <tr>\n",
       "      <th>1</th>\n",
       "      <td>4</td>\n",
       "      <td>{}</td>\n",
       "      <td>329954</td>\n",
       "    </tr>\n",
       "    <tr>\n",
       "      <th>2</th>\n",
       "      <td>6</td>\n",
       "      <td>{}</td>\n",
       "      <td>1528013</td>\n",
       "    </tr>\n",
       "    <tr>\n",
       "      <th>3</th>\n",
       "      <td>11</td>\n",
       "      <td>{34658, 14947, 35948, 28465, 8309, 27959, 3564...</td>\n",
       "      <td>1376945</td>\n",
       "    </tr>\n",
       "    <tr>\n",
       "      <th>4</th>\n",
       "      <td>12</td>\n",
       "      <td>{14992, 13176, 7076, 10863}</td>\n",
       "      <td>1356845</td>\n",
       "    </tr>\n",
       "  </tbody>\n",
       "</table>\n",
       "</div>"
      ],
      "text/plain": [
       "   user_id                                 products_predicted  order_id\n",
       "0        3  {17668, 39190, 18599, 24810, 9387, 21903, 3240...   2774568\n",
       "1        4                                                 {}    329954\n",
       "2        6                                                 {}   1528013\n",
       "3       11  {34658, 14947, 35948, 28465, 8309, 27959, 3564...   1376945\n",
       "4       12                        {14992, 13176, 7076, 10863}   1356845"
      ]
     },
     "execution_count": 30,
     "metadata": {},
     "output_type": "execute_result"
    }
   ],
   "source": [
    "#\n",
    "# Write out the winning model to disk for submission\n",
    "#\n",
    "\n",
    "# Write out a submission file.\n",
    "winner = lambda x: products_n(x, 2)\n",
    "predict = test.groupby(['user_id']).apply(winner).reset_index(name='products_predicted')\n",
    "predict = predict.merge(oid_uid_test, on='user_id')\n",
    "\n",
    "fd = open('submission.csv', 'w')\n",
    "fd.write('order_id,products\\n')\n",
    "\n",
    "for oid, pr in zip(product_counts['order_id'], predict['products_predicted']):\n",
    "    fd.write('%d,' % oid)\n",
    "\n",
    "    if pr:\n",
    "        fd.write(' '.join(map(str, pr)))\n",
    "    else:\n",
    "        fd.write('None')\n",
    "    fd.write('\\n')\n",
    "\n",
    "fd.close()\n",
    "predict.head()"
   ]
  },
  {
   "cell_type": "code",
   "execution_count": null,
   "metadata": {
    "collapsed": true
   },
   "outputs": [],
   "source": []
  }
 ],
 "metadata": {
  "kernelspec": {
   "display_name": "Python 2",
   "language": "python",
   "name": "python2"
  },
  "language_info": {
   "codemirror_mode": {
    "name": "ipython",
    "version": 2
   },
   "file_extension": ".py",
   "mimetype": "text/x-python",
   "name": "python",
   "nbconvert_exporter": "python",
   "pygments_lexer": "ipython2",
   "version": "2.7.13"
  }
 },
 "nbformat": 4,
 "nbformat_minor": 2
}
