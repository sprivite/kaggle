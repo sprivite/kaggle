{
 "cells": [
  {
   "cell_type": "markdown",
   "metadata": {},
   "source": [
    "    First, let's look at the data!"
   ]
  },
  {
   "cell_type": "code",
   "execution_count": 14,
   "metadata": {
    "collapsed": true
   },
   "outputs": [],
   "source": [
    "%matplotlib inline  \n",
    "\n",
    "import pandas as pd\n",
    "from matplotlib import pyplot\n",
    "import numpy"
   ]
  },
  {
   "cell_type": "code",
   "execution_count": 2,
   "metadata": {
    "collapsed": true
   },
   "outputs": [],
   "source": [
    "train_orders = pd.read_csv(\"/order_products__train.csv\")\n",
    "prior_orders = pd.read_csv(\"order_products__prior.csv\")\n",
    "products = pd.read_csv(\"products.csv\").set_index('product_id')"
   ]
  },
  {
   "cell_type": "code",
   "execution_count": 13,
   "metadata": {},
   "outputs": [
    {
     "name": "stdout",
     "output_type": "stream",
     "text": [
      "99\n",
      "3421083\n"
     ]
    }
   ],
   "source": [
    "# It took a little time to figure out what the data actually is ... so here is\n",
    "# a summary for the rest of us.\n",
    "print c.execute('SELECT MAX(order_number ) FROM orders').fetchone()[0]\n",
    "\n",
    "# how many baskets do we have?\n",
    "print \"baskets:\", c.execute('SELECT COUNT( order_id ) FROM orders').fetchone()[0]\n",
    "\n",
    "\n",
    "\n",
    "#for X in c.execute('SELECT * FROM orders LIMIT 10').fetchall():\n",
    "#    print X\n",
    "\n",
    "#print c.execute('SELECT COUNT( DISTINCT *) FROM order_products_prior ').fetchall()[0]\n",
    "\n",
    "#print c.execute('SELECT COUNT( order_id ) FROM orders').fetchone()[0]\n",
    "\n",
    "#print \"orders:\", orders\n",
    "#print \"users:\", c.execute('SELECT COUNT( DISTINCT user_id ) FROM orders').fetchone()[0]\n",
    "#print \"mean order size:\", c.execute('SELECT COUNT(*) FROM orders').fetchone()[0]\n"
   ]
  },
  {
   "cell_type": "code",
   "execution_count": 11,
   "metadata": {},
   "outputs": [
    {
     "name": "stdout",
     "output_type": "stream",
     "text": [
      "[   4.    5.    6.    7.    8.    9.   10.   11.   12.   13.   14.   15.\n",
      "   16.   17.   18.   19.   20.   21.   22.   23.   24.   25.   26.   27.\n",
      "   28.   29.   30.   31.   32.   33.   34.   35.   36.   37.   38.   39.\n",
      "   40.   41.   42.   43.   44.   45.   46.   47.   48.   49.   50.   51.\n",
      "   52.   53.   54.   55.   56.   57.   58.   59.   60.   61.   62.   63.\n",
      "   64.   65.   66.   67.   68.   69.   70.   71.   72.   73.   74.   75.\n",
      "   76.   77.   78.   79.   80.   81.   82.   83.   84.   85.   86.   87.\n",
      "   88.   89.   90.   91.   92.   93.   94.   95.   96.   97.   98.   99.\n",
      "  100.]\n"
     ]
    },
    {
     "data": {
      "image/png": "[encoded data removed]",
      "text/plain": [
       "<matplotlib.figure.Figure at 0x7f8c30104910>"
      ]
     },
     "metadata": {},
     "output_type": "display_data"
    }
   ],
   "source": [
    "counts = [cnt[0] for cnt in c.execute('SELECT COUNT(*) FROM orders GROUP BY user_id').fetchall()]\n",
    "n, bins, patches = pyplot.hist(counts, bins = 100 - 4, log=True)\n",
    "#print bins\n",
    "pyplot.show()"
   ]
  },
  {
   "cell_type": "code",
   "execution_count": null,
   "metadata": {
    "collapsed": true
   },
   "outputs": [],
   "source": [
    "pyplot.show()"
   ]
  },
  {
   "cell_type": "code",
   "execution_count": null,
   "metadata": {
    "collapsed": true
   },
   "outputs": [],
   "source": []
  },
  {
   "cell_type": "code",
   "execution_count": null,
   "metadata": {
    "collapsed": true
   },
   "outputs": [],
   "source": []
  }
 ],
 "metadata": {
  "kernelspec": {
   "display_name": "Python 2",
   "language": "python",
   "name": "python2"
  },
  "language_info": {
   "codemirror_mode": {
    "name": "ipython",
    "version": 2
   },
   "file_extension": ".py",
   "mimetype": "text/x-python",
   "name": "python",
   "nbconvert_exporter": "python",
   "pygments_lexer": "ipython2",
   "version": "2.7.12"
  }
 },
 "nbformat": 4,
 "nbformat_minor": 2
}
