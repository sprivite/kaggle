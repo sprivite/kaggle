{
 "cells": [
  {
   "cell_type": "code",
   "execution_count": 26,
   "metadata": {},
   "outputs": [],
   "source": [
    "import torch\n",
    "import keras\n",
    "from keras.datasets import mnist\n",
    "from keras.layers import Dense, Flatten\n",
    "from keras.layers import Conv2D, MaxPooling2D\n",
    "from keras.models import Sequential\n",
    "\n",
    "import pandas as pd\n",
    "%matplotlib inline\n",
    "import matplotlib as mpl\n",
    "from matplotlib import pyplot as plt"
   ]
  },
  {
   "cell_type": "code",
   "execution_count": 41,
   "metadata": {},
   "outputs": [
    {
     "name": "stdout",
     "output_type": "stream",
     "text": [
      "(42000, 10) (42000, 28, 28, 1)\n"
     ]
    },
    {
     "name": "stderr",
     "output_type": "stream",
     "text": [
      "/home/puser/education/env/lib/python2.7/site-packages/ipykernel_launcher.py:7: FutureWarning: Method .as_matrix will be removed in a future version. Use .values instead.\n",
      "  import sys\n",
      "/home/puser/education/env/lib/python2.7/site-packages/ipykernel_launcher.py:9: FutureWarning: Method .as_matrix will be removed in a future version. Use .values instead.\n",
      "  if __name__ == '__main__':\n"
     ]
    }
   ],
   "source": [
    "num_classes = 10\n",
    "num_channels = 1\n",
    "img_x, img_y = 28, 28\n",
    "input_shape = (img_x, img_y, num_channels)\n",
    "\n",
    "data = pd.read_csv('data/train.csv')\n",
    "truth = keras.utils.to_categorical( data.label.as_matrix(), num_classes )\n",
    "del data['label']\n",
    "features = data.as_matrix().reshape(len(data), *input_shape)\n",
    "del data\n",
    "print truth.shape, features.shape"
   ]
  },
  {
   "cell_type": "code",
   "execution_count": 42,
   "metadata": {},
   "outputs": [
    {
     "data": {
      "text/plain": [
       "(<matplotlib.image.AxesImage at 0x7f5833d5acd0>,\n",
       " array([1., 0., 0., 0., 0., 0., 0., 0., 0., 0.], dtype=float32))"
      ]
     },
     "execution_count": 42,
     "metadata": {},
     "output_type": "execute_result"
    },
    {
     "data": {
      "image/png": "[encoded data removed]",
      "text/plain": [
       "<Figure size 432x288 with 1 Axes>"
      ]
     },
     "metadata": {},
     "output_type": "display_data"
    }
   ],
   "source": [
    "plt.imshow(features[1, :].reshape(28, 28)), truth[1]"
   ]
  },
  {
   "cell_type": "code",
   "execution_count": 43,
   "metadata": {},
   "outputs": [],
   "source": [
    "# train test split\n",
    "Ntrain = int(0.95*features.shape[0])\n",
    "x_train, y_train = features[:Ntrain, :], truth[:Ntrain]\n",
    "x_test, y_test = features[Ntrain:, :], truth[Ntrain:]"
   ]
  },
  {
   "cell_type": "code",
   "execution_count": 44,
   "metadata": {},
   "outputs": [
    {
     "name": "stdout",
     "output_type": "stream",
     "text": [
      "('x_train shape:', (39900, 28, 28, 1))\n",
      "(39900, 'train samples')\n",
      "(2100, 'test samples')\n"
     ]
    }
   ],
   "source": [
    "# preprocess data\n",
    "x_train = x_train.astype('float32')\n",
    "x_test = x_test.astype('float32')\n",
    "x_train /= 255\n",
    "x_test /= 255\n",
    "print('x_train shape:', x_train.shape)\n",
    "print(x_train.shape[0], 'train samples')\n",
    "print(x_test.shape[0], 'test samples')"
   ]
  },
  {
   "cell_type": "code",
   "execution_count": 34,
   "metadata": {},
   "outputs": [
    {
     "name": "stdout",
     "output_type": "stream",
     "text": [
      "Train on 39900 samples, validate on 2100 samples\n",
      "Epoch 1/10\n",
      "39900/39900 [==============================] - 33s 823us/step - loss: 0.1912 - acc: 0.9415 - val_loss: 0.0771 - val_acc: 0.9757\n",
      "Epoch 2/10\n",
      "39900/39900 [==============================] - 35s 876us/step - loss: 0.0497 - acc: 0.9845 - val_loss: 0.0513 - val_acc: 0.9848\n",
      "Epoch 3/10\n",
      "39900/39900 [==============================] - 34s 863us/step - loss: 0.0336 - acc: 0.9896 - val_loss: 0.0257 - val_acc: 0.9914\n",
      "Epoch 4/10\n",
      "39900/39900 [==============================] - 34s 864us/step - loss: 0.0239 - acc: 0.9922 - val_loss: 0.0275 - val_acc: 0.9914\n",
      "Epoch 5/10\n",
      "39900/39900 [==============================] - 35s 865us/step - loss: 0.0165 - acc: 0.9947 - val_loss: 0.0270 - val_acc: 0.9910\n",
      "Epoch 6/10\n",
      "39900/39900 [==============================] - 35s 874us/step - loss: 0.0131 - acc: 0.9955 - val_loss: 0.0352 - val_acc: 0.9900\n",
      "Epoch 7/10\n",
      "39900/39900 [==============================] - 34s 860us/step - loss: 0.0121 - acc: 0.9958 - val_loss: 0.0424 - val_acc: 0.9886\n",
      "Epoch 8/10\n",
      "39900/39900 [==============================] - 33s 815us/step - loss: 0.0090 - acc: 0.9972 - val_loss: 0.0387 - val_acc: 0.9881\n",
      "Epoch 9/10\n",
      "39900/39900 [==============================] - 32s 814us/step - loss: 0.0079 - acc: 0.9974 - val_loss: 0.0317 - val_acc: 0.9905\n",
      "Epoch 10/10\n",
      "39900/39900 [==============================] - 34s 847us/step - loss: 0.0088 - acc: 0.9972 - val_loss: 0.0336 - val_acc: 0.9900\n",
      "('Test loss:', 0.03363217813475612)\n",
      "('Test accuracy:', 0.99)\n"
     ]
    },
    {
     "data": {
      "image/png": "[encoded data removed]",
      "text/plain": [
       "<Figure size 432x288 with 1 Axes>"
      ]
     },
     "metadata": {},
     "output_type": "display_data"
    }
   ],
   "source": [
    "batch_size = 128\n",
    "epochs = 10\n",
    "\n",
    "model = Sequential()\n",
    "model.add(Conv2D(32, kernel_size=(5, 5), strides=(1, 1),\n",
    "                 activation='relu',\n",
    "                 input_shape=input_shape))\n",
    "model.add(MaxPooling2D(pool_size=(2, 2), strides=(2, 2)))\n",
    "model.add(Conv2D(64, (5, 5), activation='relu'))\n",
    "model.add(MaxPooling2D(pool_size=(2, 2)))\n",
    "model.add(Flatten())\n",
    "model.add(Dense(1000, activation='relu'))\n",
    "model.add(Dense(num_classes, activation='softmax'))\n",
    "\n",
    "model.compile(loss=keras.losses.categorical_crossentropy,\n",
    "              optimizer=keras.optimizers.Adam(),\n",
    "              metrics=['accuracy'])\n",
    "\n",
    "\n",
    "class AccuracyHistory(keras.callbacks.Callback):\n",
    "    def on_train_begin(self, logs={}):\n",
    "        self.acc = []\n",
    "\n",
    "    def on_epoch_end(self, batch, logs={}):\n",
    "        self.acc.append(logs.get('acc'))\n",
    "\n",
    "history = AccuracyHistory()\n",
    "\n",
    "model.fit(x_train, y_train,\n",
    "          batch_size=batch_size,\n",
    "          epochs=epochs,\n",
    "          verbose=1,\n",
    "          validation_data=(x_test, y_test),\n",
    "          callbacks=[history])\n",
    "score = model.evaluate(x_test, y_test, verbose=0)\n",
    "print('Test loss:', score[0])\n",
    "print('Test accuracy:', score[1])\n",
    "plt.plot(range(1, 11), history.acc)\n",
    "plt.xlabel('Epochs')\n",
    "plt.ylabel('Accuracy')\n",
    "plt.show()"
   ]
  },
  {
   "cell_type": "code",
   "execution_count": 49,
   "metadata": {},
   "outputs": [
    {
     "name": "stdout",
     "output_type": "stream",
     "text": [
      "_________________________________________________________________\n",
      "Layer (type)                 Output Shape              Param #   \n",
      "=================================================================\n",
      "conv2d_5 (Conv2D)            (None, 24, 24, 32)        832       \n",
      "_________________________________________________________________\n",
      "max_pooling2d_5 (MaxPooling2 (None, 12, 12, 32)        0         \n",
      "_________________________________________________________________\n",
      "conv2d_6 (Conv2D)            (None, 8, 8, 64)          51264     \n",
      "_________________________________________________________________\n",
      "max_pooling2d_6 (MaxPooling2 (None, 4, 4, 64)          0         \n",
      "_________________________________________________________________\n",
      "flatten_3 (Flatten)          (None, 1024)              0         \n",
      "_________________________________________________________________\n",
      "dense_5 (Dense)              (None, 1000)              1025000   \n",
      "_________________________________________________________________\n",
      "dense_6 (Dense)              (None, 10)                10010     \n",
      "=================================================================\n",
      "Total params: 1,087,106\n",
      "Trainable params: 1,087,106\n",
      "Non-trainable params: 0\n",
      "_________________________________________________________________\n"
     ]
    }
   ],
   "source": [
    "model.summary()"
   ]
  },
  {
   "cell_type": "code",
   "execution_count": 48,
   "metadata": {},
   "outputs": [
    {
     "data": {
      "text/plain": [
       "array([[4132,    0,    0,    0,    0,    0,    0,    0,    0,    0],\n",
       "       [   0, 4682,    0,    0,    0,    0,    1,    1,    0,    0],\n",
       "       [   1,    0, 4169,    0,    0,    0,    0,    0,    5,    2],\n",
       "       [   1,    0,    1, 4345,    0,    0,    0,    0,    3,    1],\n",
       "       [   0,    1,    0,    0, 4049,    0,    0,    1,    3,   18],\n",
       "       [   0,    0,    0,    0,    0, 3773,    6,    0,   13,    3],\n",
       "       [   3,    0,    0,    1,    0,    1, 4132,    0,    0,    0],\n",
       "       [   2,   15,    1,    0,    0,    0,    0, 4358,    2,   23],\n",
       "       [   0,    1,    1,    0,    0,    0,    0,    0, 4061,    0],\n",
       "       [   0,    1,    0,    0,    3,    0,    0,    0,    9, 4175]])"
      ]
     },
     "execution_count": 48,
     "metadata": {},
     "output_type": "execute_result"
    }
   ],
   "source": [
    "from sklearn.metrics import confusion_matrix\n",
    "confusion_matrix(truth.argmax(axis=1), model.predict(features).argmax(axis=1))"
   ]
  },
  {
   "cell_type": "markdown",
   "metadata": {},
   "source": [
    "## Make final predictions"
   ]
  },
  {
   "cell_type": "code",
   "execution_count": 35,
   "metadata": {},
   "outputs": [
    {
     "name": "stderr",
     "output_type": "stream",
     "text": [
      "/home/puser/education/env/lib/python2.7/site-packages/ipykernel_launcher.py:2: FutureWarning: Method .as_matrix will be removed in a future version. Use .values instead.\n",
      "  \n"
     ]
    }
   ],
   "source": [
    "data = pd.read_csv('data/test.csv')\n",
    "features = data.as_matrix().reshape(len(data), *input_shape)\n",
    "features = features.astype('float32')\n",
    "features /= 255"
   ]
  },
  {
   "cell_type": "code",
   "execution_count": 36,
   "metadata": {},
   "outputs": [],
   "source": [
    "pred = model.predict(features).argmax(axis=1)"
   ]
  },
  {
   "cell_type": "code",
   "execution_count": 40,
   "metadata": {},
   "outputs": [
    {
     "name": "stdout",
     "output_type": "stream",
     "text": [
      "4\n"
     ]
    },
    {
     "data": {
      "image/png": "[encoded data removed]",
      "text/plain": [
       "<Figure size 432x288 with 1 Axes>"
      ]
     },
     "metadata": {},
     "output_type": "display_data"
    }
   ],
   "source": [
    "out = open('submission.txt', 'w')\n",
    "out.write('ImageId,Label\\n')\n",
    "for j, p in enumerate(pred):\n",
    "    out.write('{},{}\\n'.format(j+1,p))\n",
    "\n",
    "plt.imshow(features[99, :].reshape(28, 28))\n",
    "print pred[99]"
   ]
  }
 ],
 "metadata": {
  "kernelspec": {
   "display_name": "Python 2",
   "language": "python",
   "name": "python2"
  },
  "language_info": {
   "codemirror_mode": {
    "name": "ipython",
    "version": 2
   },
   "file_extension": ".py",
   "mimetype": "text/x-python",
   "name": "python",
   "nbconvert_exporter": "python",
   "pygments_lexer": "ipython2",
   "version": "2.7.12"
  }
 },
 "nbformat": 4,
 "nbformat_minor": 2
}
